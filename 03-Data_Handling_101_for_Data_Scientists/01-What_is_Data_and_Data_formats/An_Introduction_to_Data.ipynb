{
 "cells": [
  {
   "cell_type": "markdown",
   "metadata": {},
   "source": [
    "# What is data?\n",
    "\n",
    "Give a brief definition of data, what constitutes data.\n",
    "\n",
    "## Sources of Data\n",
    "\n",
    "The entities, objects, systems, which generate data. And also introduce the data analysis process diagram from general analysis perspective\n",
    "\n",
    "## Types of Data\n",
    "\n",
    "All the types of data available - image, sound, text, table, etc. \n",
    "\n",
    "Evolution of image data - data from what you see\n",
    "Evolution of sound data - data from what you hear\n",
    "Evolution of text data - data from what you speak\n",
    "Evolution of table data - ?\n",
    "Evolution of smell data - data from what you smell??? (Electronic nose and future of decoding olfactory sensory response)\n",
    "\n",
    "### Types of data file formats\n",
    "Image files\n",
    "Sound files\n",
    "Text files\n",
    "Table/Database files\n",
    "\n",
    "Wherever applicable, we show code on how to load files of various formats and show what those files consist of to explain each data object more clearly\n",
    "\n",
    "## Categories and classification of data\n",
    "\n",
    "### Structured vs unstructured\n",
    "\n",
    "Definition, pros and cons of structured vs unstructured data. What the future holds with respect to rise in volumes of unstructured data\n",
    "\n",
    "### SQL vs NoSQL\n",
    "\n",
    "Models of data - relational vs non-relational (columnar, key-value, graphs, documents etc.)\n",
    "\n",
    "### Categorical vs numerical\n",
    "\n",
    "Broad types of data - categorical (generally string) or numerical (generally number)\n",
    "\n",
    "Within numeric data types we further talk about nominal, cardinal, ordinal data\n",
    "\n",
    "Within categorical, we can introduce various types of dimensions - space (geographical data) and time (temporal data)"
   ]
  }
 ],
 "metadata": {
  "kernelspec": {
   "display_name": "Python 3",
   "language": "python",
   "name": "python3"
  },
  "language_info": {
   "codemirror_mode": {
    "name": "ipython",
    "version": 3
   },
   "file_extension": ".py",
   "mimetype": "text/x-python",
   "name": "python",
   "nbconvert_exporter": "python",
   "pygments_lexer": "ipython3",
   "version": "3.6.1"
  }
 },
 "nbformat": 4,
 "nbformat_minor": 2
}
