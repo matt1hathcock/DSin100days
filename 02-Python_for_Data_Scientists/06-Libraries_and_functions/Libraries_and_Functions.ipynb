{
 "cells": [
  {
   "cell_type": "markdown",
   "metadata": {},
   "source": [
    "# Libraries and Functions\n",
    "\n",
    "## Libraries and Modules\n",
    "\n",
    "### What is a library?\n",
    "\n",
    "A module is a python file which contains definitions of variables, functions, values and other statements. A module is generally a .py file.\n",
    "\n",
    "A package is a module which contains '_path_' attribute which shows that this module may be interlinked to other modules in an organized heirarchy. This organized system of modules may have code which interacts with each other so as to perform a larger task(s).\n",
    "\n",
    "A published module/package, or set of modules/packages, for reuse in various applications is called a library.Numpy, Pandas, Scikit Learn are all examples of Python libraries. Libraries are created by developers and may be published publicly (open to use for everyone) or privately (use for specific organizations or individuals).\n",
    "\n",
    "### How to import a library in Python?\n",
    "\n",
    "Libraries by themselves are not executable. Libraries often contain modules (.py files) which contain functions, which can be imported into our code and executed.\n",
    "* We can use the 'import' keyword to import libraries in Python.\n",
    "* To import a specific function or module from the library, we can use the 'from' keyword to refer to the specific library that we want to import from and then use the 'import' keyword to refer to the specific module or function to import.\n",
    "\n",
    "```python\n",
    "# Import statement to include the Pandas library\n",
    "import pandas\n",
    "\n",
    "# Import statement to include the Numpy library\n",
    "import numpy\n",
    "\n",
    "# Import 'random' module from Numpy library\n",
    "from numpy import random\n",
    "\n",
    "# Import 'pyplot' module from Matplotlib library\n",
    "from matplotlib import pyplot\n",
    "```\n",
    "\n",
    "#### Exercise\n",
    "\n",
    "Code the following:\n",
    "* Import the sklearn library using an import statement.\n",
    "* Import seaborn library using an import statement.\n",
    "* Import 'arange' function from numpy library.\n",
    "* Import 'heatmap' from seaborn library."
   ]
  },
  {
   "cell_type": "code",
   "execution_count": 9,
   "metadata": {
    "ExecuteTime": {
     "end_time": "2018-07-23T00:27:18.114592Z",
     "start_time": "2018-07-23T00:27:16.937299Z"
    }
   },
   "outputs": [],
   "source": [
    "import sklearn\n",
    "import seaborn\n",
    "from numpy import arange\n",
    "from seaborn import heatmap"
   ]
  },
  {
   "cell_type": "markdown",
   "metadata": {},
   "source": [
    "### More on modules\n",
    "\n",
    "Python has a standard library where functions such as print(), range(), len() can be invoked at any point in our code. However, some functions that belong to a category of operations often exist in modules. For example, if we intend to use a logartithm, a square root operation, then such operations exist in a module called the 'math' module. Similarly, there are many modules in python that we can leverage to write our code. These modules need to be imported to use them.\n",
    "\n",
    "For example, to compute a square root of a number:\n",
    "\n",
    "```\n",
    "import math\n",
    "\n",
    "print(math.sqrt(25))\n",
    "5\n",
    "```\n",
    "\n",
    "Modules are sometimes heavy in terms of memory of functions that are loaded. Also modules are often built up of submodules that could be imported to save memory. Consider a module built of a heirarchy of submodules in this manner:\n",
    "\n",
    "For example consider module A that has submodule B, C, D as submodules. Suppose the submodule D has a function func(), which is all we need for our code. Then, we can import just the submodule in a heirarchial fashion as:\n",
    "\n",
    "```\n",
    "from A.C import D\n",
    "\n",
    "D.func()\n",
    "```\n",
    "\n",
    "#### Exercise\n",
    "\n",
    "Write a function, compute_sqrt(x), which takes a non-negative number as an input and returns a dictionary with key as number and square root of the number as its value.\n",
    "* Invoke the function compute_sqrt(25), assign it to variable sqrt_25 and print it out."
   ]
  },
  {
   "cell_type": "code",
   "execution_count": 13,
   "metadata": {
    "ExecuteTime": {
     "end_time": "2018-07-23T01:55:38.056660Z",
     "start_time": "2018-07-23T01:55:38.051674Z"
    },
    "collapsed": true
   },
   "outputs": [],
   "source": [
    "import math\n",
    "\n",
    "# def compute_sqrt(x):\n",
    "#   <statements>\n",
    "\n",
    "# Solution\n",
    "def compute_sqrt(x):\n",
    "    return {x: math.sqrt(x)}\n",
    "\n",
    "sqrt_25 = compute_sqrt(25)"
   ]
  },
  {
   "cell_type": "markdown",
   "metadata": {
    "ExecuteTime": {
     "end_time": "2018-07-22T03:57:07.409746Z",
     "start_time": "2018-07-22T03:57:02.786028Z"
    }
   },
   "source": [
    "### Aliasing a library or module\n",
    "\n",
    "A library may consist of multiple modules and each module may contain many functions. In order to access a function within a specific module within a library, the format would be \"libraryname.modulename.function\". If we are using many functions from the same module or library it may become a tedious job to call the library and module name each time.\n",
    "\n",
    "Aliases are short forms that we can assign to libraries or modules within libraries so we may access functions within the module easily using the shortened notation.\n",
    "\n",
    "```python\n",
    "# Alias for Pandas library\n",
    "import pandas as pd\n",
    "\n",
    "# Alias for Numpy library\n",
    "import numpy as np\n",
    "\n",
    "# Alias for 'random' module from Numpy library\n",
    "from numpy import random as ranm\n",
    "\n",
    "# Alias for 'pyplot' module from Matplotlib library\n",
    "from matplotlib import pyplot as plt\n",
    "```\n",
    "\n",
    "Note that you should not use Python keywords as alias names.\n",
    "\n",
    "#### Exercise\n",
    "\n",
    "Code the following:\n",
    "* Import sklearn and give an alias 'skl' to the library.\n",
    "* Import seaborn and give an alias 'sns' to the library.\n",
    "* Import 'arange' function from numpy library and give an alias 'ara' to it.\n",
    "* Import 'heatmap' from seaborn library and give an alias 'hmap' to it."
   ]
  },
  {
   "cell_type": "code",
   "execution_count": 10,
   "metadata": {
    "ExecuteTime": {
     "end_time": "2018-07-23T00:54:44.336914Z",
     "start_time": "2018-07-23T00:54:44.331954Z"
    },
    "collapsed": true
   },
   "outputs": [],
   "source": [
    "import sklearn as skl\n",
    "import seaborn as sns\n",
    "from numpy import arange as ara\n",
    "from seaborn import heatmap as hmap"
   ]
  },
  {
   "cell_type": "markdown",
   "metadata": {},
   "source": [
    "### Inbuilt functions and Magic Methods\n",
    "\n",
    "Python has in-built functions, attributes and operations that can be readily used to supplement code. Magic methods are a way for a user to define functions/attributes which act as in-built python methods and they can be used to defined object behavior. For more on magic methods read: https://rszalski.github.io/magicmethods/\n",
    "\n",
    "There are two kinds of magics/in-built methods:\n",
    "* Line magic - called by '%'\n",
    "* Cell magic - called by '%%'\n",
    "\n",
    "```python\n",
    "# magic method to make matplotlib charts to display inline\n",
    "%matplotlib inline\n",
    "\n",
    "# magic method to display walltime of execution of a given cell\n",
    "%%time\n",
    "```\n",
    "\n",
    "#### Exercise\n",
    "\n",
    "Write a magic method to print wall time of the following code:\n",
    "```python\n",
    "# magic method to make matplotlib charts to display inline\n",
    "import numpy as np\n",
    "\n",
    "a = np.arange(0,10)\n",
    "b = []\n",
    "\n",
    "for i in a:\n",
    "    b.append(i**2)\n",
    "    \n",
    "print(b)\n",
    "```"
   ]
  },
  {
   "cell_type": "code",
   "execution_count": 12,
   "metadata": {
    "ExecuteTime": {
     "end_time": "2018-07-23T01:48:04.482618Z",
     "start_time": "2018-07-23T01:48:04.475209Z"
    }
   },
   "outputs": [
    {
     "name": "stdout",
     "output_type": "stream",
     "text": [
      "[0, 1, 4, 9, 16, 25, 36, 49, 64, 81]\n",
      "Wall time: 512 µs\n"
     ]
    }
   ],
   "source": [
    "%%time\n",
    "\n",
    "import numpy as np\n",
    "\n",
    "a = np.arange(0,10)\n",
    "b = []\n",
    "\n",
    "for i in a:\n",
    "    b.append(i**2)\n",
    "    \n",
    "print(b)"
   ]
  },
  {
   "cell_type": "markdown",
   "metadata": {},
   "source": [
    "## Functions\n",
    "\n",
    "### Function basics - Built-in and User defined functions\n",
    "\n",
    "A function is a block of code that executes in a sequence and can be invoked in a repeated fashion. We have already used some functions such as .append(), .pop(), print(). These are Python's built-in functions.\n",
    "\n",
    "Users can also define their own set of functions. Here is an example of a function that takes in two numbers and returns their sum:\n",
    "\n",
    "```python\n",
    "# function to add two values\n",
    "def add_values(x, y):\n",
    "  z = x + y\n",
    "  return z\n",
    "```\n",
    "\n",
    "Here x, y, z are called local variables as they only retain their values inside the function. This function is invoked as:\n",
    "\n",
    "```\n",
    ">>print(add_values(5, 10))\n",
    "15\n",
    "```\n",
    "\n",
    "Note the formatting of the code. The function define statement starts with the 'def' keyword and the statement ends with a ':'. Just like a decision statement or a loop, the lines of code which are to be included within this namespace are indented. i.e., all statements that are to be part of the function defined are to be indented.\n",
    "\n",
    "#### Exercise\n",
    "\n",
    "Write a simple function to calculate the cube (power 3) of a given number. Find the cube of the number 16 using this function."
   ]
  },
  {
   "cell_type": "code",
   "execution_count": 14,
   "metadata": {
    "ExecuteTime": {
     "end_time": "2018-07-23T12:32:33.556154Z",
     "start_time": "2018-07-23T12:32:33.549410Z"
    }
   },
   "outputs": [
    {
     "name": "stdout",
     "output_type": "stream",
     "text": [
      "4096\n"
     ]
    }
   ],
   "source": [
    "def cube(x):\n",
    "    return x**3\n",
    "\n",
    "print(cube(16))"
   ]
  },
  {
   "cell_type": "markdown",
   "metadata": {},
   "source": [
    "### Passing unknown arguments\n",
    "\n",
    "A function can take arguments as designed in its definition. The number and type of arguments that a function can take can be defined.\n",
    "\n",
    "In python, data type of a variable is automatically changed by value assignment. The function may specify what data types are accepted as arguments and care should be taken to pass only those data types as arguments, as the code within the function is programmed to process specific data types.\n",
    "\n",
    "There may be situations where though the type of arguments may be known, the number of arguments that would be passed to the function may vary from a case to case basis. In such situations, the function can be defined to accept an unspecified number of arguments. This can be done using the * character.\n",
    "\n",
    "```python\n",
    "# funtion to accept multiple values\n",
    "def add_values(*x):\n",
    "  sum = 0\n",
    "  for i in x:\n",
    "      sum += i\n",
    "  return sum\n",
    "  \n",
    "print(add_values(5,10,15,20))\n",
    "50\n",
    "```\n",
    "\n",
    "#### Exercise\n",
    "\n",
    "Write a function which accepts variable number of arguments and:\n",
    "\n",
    "* Multiplies all arguments and returns product, if total number of arguments given is 3\n",
    "* Subtracts sum of all arguments from 1000 and returns difference, if total number of arguments is 5\n",
    "* Adds all arguments if total number of arguments is not 3 or 5\n",
    "\n",
    "Print the results of following inputs, to confirm the proper working of your function:\n",
    "* 5,10,15\n",
    "* 5,10,15,20,25\n",
    "* 5,10,15,20"
   ]
  },
  {
   "cell_type": "code",
   "execution_count": 21,
   "metadata": {
    "ExecuteTime": {
     "end_time": "2018-07-23T13:31:17.434345Z",
     "start_time": "2018-07-23T13:31:17.425386Z"
    }
   },
   "outputs": [
    {
     "name": "stdout",
     "output_type": "stream",
     "text": [
      "750 925 50\n"
     ]
    }
   ],
   "source": [
    "# funtion to accept multiple values\n",
    "def amoeboid(*x):\n",
    "    if len(x)==3:\n",
    "        total = 1\n",
    "        for i in x:\n",
    "            total *= i\n",
    "    elif len(x)==5:\n",
    "        total = 1000\n",
    "        for i in x:\n",
    "            total -= i\n",
    "    else:\n",
    "        total = 0\n",
    "        for i in x:\n",
    "            total += i\n",
    "    return total\n",
    "  \n",
    "print(amoeboid(5,10,15),amoeboid(5,10,15,20,25),amoeboid(5,10,15,20))"
   ]
  }
 ],
 "metadata": {
  "kernelspec": {
   "display_name": "Python 3",
   "language": "python",
   "name": "python3"
  },
  "language_info": {
   "codemirror_mode": {
    "name": "ipython",
    "version": 3
   },
   "file_extension": ".py",
   "mimetype": "text/x-python",
   "name": "python",
   "nbconvert_exporter": "python",
   "pygments_lexer": "ipython3",
   "version": "3.6.1"
  }
 },
 "nbformat": 4,
 "nbformat_minor": 2
}
