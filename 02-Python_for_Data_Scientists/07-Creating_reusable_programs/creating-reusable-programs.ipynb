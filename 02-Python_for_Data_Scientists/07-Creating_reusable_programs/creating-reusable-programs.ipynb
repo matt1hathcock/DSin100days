{
 "cells": [
  {
   "cell_type": "markdown",
   "metadata": {
    "tags": [
     "s1",
     "content",
     "l1"
    ]
   },
   "source": [
    "# Reusable Python Programs\n",
    "\n",
    "A python program can get quite lengthy and unmanageable, if there are many tasks to be accomplished within that code.\n",
    "\n",
    "In this lesson you will learn how to create python code that could be reused in parts and manageable. \n",
    "You could create functions, modules and libraries that could be reused.\n",
    "\n",
    "### Functions\n",
    "\n",
    "In computer programming, there are often situations where you want to re-use a particular set of statements, that performs a specific task or set of tasks, many times over. You could do these with what are called functions in python. \n",
    "\n",
    "A function is a block of code that executes in a sequence and can be invoked in a repeated fashion. We have already used some functions such as .append(), .pop(), print(). These are called 'builtin' functions. We can also define our own set of functions. Here is an example of a function that takes in two numbers and returns their sum:\n",
    "\n",
    "```\n",
    "def add_values(x, y):\n",
    "  z = x + y\n",
    "  return z\n",
    "```\n",
    "\n",
    "Here x, y, z are called local variables as they only retain their values inside the function. This function is invoked as:\n",
    "\n",
    "```\n",
    ">>print(add_values(5, 10))\n",
    "15\n",
    "```\n",
    "\n",
    "### Exercise\n",
    "\n",
    "Write a function, multiply_values(x,y), which takes two integers as input and returns the product of the two integers.\n",
    "* Invoke the function multiply_values(5,5), assign it to variable product55 and print it out."
   ]
  },
  {
   "cell_type": "code",
   "execution_count": 1,
   "metadata": {
    "collapsed": true
   },
   "outputs": [],
   "source": [
    "#Write the function definition for multiply_values\n"
   ]
  },
  {
   "cell_type": "markdown",
   "metadata": {},
   "source": [
    "Use def to define a function, then make a function call "
   ]
  },
  {
   "cell_type": "code",
   "execution_count": 2,
   "metadata": {},
   "outputs": [
    {
     "name": "stdout",
     "output_type": "stream",
     "text": [
      "25\n"
     ]
    }
   ],
   "source": [
    "def multiply_values(x, y):\n",
    "    z = x * y\n",
    "    return z\n",
    "\n",
    "product55 = multiply_values(5,5)\n",
    "print(product55)"
   ]
  },
  {
   "cell_type": "code",
   "execution_count": 3,
   "metadata": {
    "collapsed": true
   },
   "outputs": [],
   "source": [
    "ref_tmp_var = False\n",
    "\n",
    "try:\n",
    "    if  multiply_values(5,5) == 25:\n",
    "        ref_assert_var = True\n",
    "        ref_tmp_var = True\n",
    "    else:\n",
    "        ref_assert_var = False\n",
    "        print('Please follow the instructions given and use the same variables provided in the instructions.')\n",
    "except Exception:\n",
    "    print('Please follow the instructions given and use the same variables provided in the instructions.')\n",
    "\n",
    "assert ref_tmp_var"
   ]
  },
  {
   "cell_type": "markdown",
   "metadata": {
    "tags": [
     "l5",
     "content",
     "s5"
    ]
   },
   "source": [
    "### Modules in Python\n",
    "\n",
    "As your python program becomes larger with many functions, you would encounter a situation where you have to split the program into multiple files for manageablity. These are known as modules. This modularity makes it easier for you to work on sections of your larger programs. When you break a program into modules, you are also able to hide the details for how something is done within the module that does it.  Also this makes it easy to test the functions that are related in a module.\n",
    "\n",
    "Python has a standard library where functions such as print(), range(), len() can be invoked at any point in our code. However, some functions that belong to a category of operations often exist in modules. For example, if we intend to use a logartithm, a square root operation, then such operations exist in a module called the 'math' module. Similarly, there are tons of modules in python that we can leverage to write our code. These modules need to be imported to use them.\n",
    "\n",
    "To import a module you must explicity specify 'import ' in the beginning of your code.\n",
    "\n",
    "For example, to compute a square root of a number:\n",
    "\n",
    "```\n",
    "import math\n",
    "\n",
    "print(math.sqrt(25))\n",
    "5\n",
    "```\n",
    "\n",
    "These modules sometimes are heavy in terms of memory of functions that are loaded. Also modules are often built up of submodules that could be imported to save memory. Consider a module built of a heirarchy of submodules in this manner:\n",
    "\n",
    "For example consider module A that has submodule B, C, D as submodules. Suppose the submodule D has a function func(), which is all we need for our code. Then, we can import just the submodule in a heirarchial fashion as:\n",
    "\n",
    "```\n",
    "from A.C import D\n",
    "\n",
    "D.func()\n",
    "```\n",
    "\n",
    "### Exercise\n",
    "\n",
    "Write a function, compute_sqrt(x), which takes a non-negative number as an input and returns a dictionary with key as number and square root of the number as its value.\n",
    "* Invoke the function compute_sqrt(25), assign it to variable sqrt_25 and print it out."
   ]
  },
  {
   "cell_type": "code",
   "execution_count": 4,
   "metadata": {
    "collapsed": true,
    "tags": [
     "l5",
     "ce",
     "s5"
    ]
   },
   "outputs": [],
   "source": [
    "import math\n",
    "\n",
    "# def compute_sqrt(x):\n",
    "#   <statements>"
   ]
  },
  {
   "cell_type": "markdown",
   "metadata": {
    "tags": [
     "l5",
     "s5",
     "hint"
    ]
   },
   "source": [
    "Hint: Use { key: value } to specify a dictionary"
   ]
  },
  {
   "cell_type": "code",
   "execution_count": 5,
   "metadata": {
    "collapsed": true,
    "tags": [
     "l5",
     "s5",
     "ans"
    ]
   },
   "outputs": [],
   "source": [
    "def compute_sqrt(x):\n",
    "    return {x: math.sqrt(x)}\n",
    "\n",
    "sqrt_25 = compute_sqrt(25)"
   ]
  },
  {
   "cell_type": "code",
   "execution_count": 6,
   "metadata": {
    "collapsed": true,
    "tags": [
     "hid",
     "l5",
     "s5"
    ]
   },
   "outputs": [],
   "source": [
    "ref_tmp_var = False\n",
    "\n",
    "try:\n",
    "    if sqrt_25[25] == 5:\n",
    "        ref_assert_var = True\n",
    "        ref_tmp_var = True\n",
    "    else:\n",
    "        ref_assert_var = False\n",
    "        print('Please follow the instructions given and use the same variables provided in the instructions.')\n",
    "except Exception:\n",
    "    print('Please follow the instructions given and use the same variables provided in the instructions.')\n",
    "\n",
    "assert ref_tmp_var"
   ]
  },
  {
   "cell_type": "markdown",
   "metadata": {},
   "source": [
    "### Python Libraries\n",
    "\n",
    "Going further from the modules, as the number of modules grow, you may need to package a set of related (or unrelated) modules together for the users of the modules. This could be done as part of a python library. A library is a collection of modules that could be made available for any user written python program.\n",
    "\n",
    "You import a module or set of modules from a library. You must explicity specify 'from' keyword to specify the library name and then use the 'import ' keyword to specify the module name at the beginning of your code.\n",
    "\n",
    "For example, to import K-nearest neighbors module \n",
    "\n",
    "```\n",
    "from sklearn import neighbors\n",
    "knn = neighbors.KNeighborsClassifier():\n",
    "\n",
    "```\n"
   ]
  }
 ],
 "metadata": {
  "executed_sections": [],
  "kernelspec": {
   "display_name": "Python 3",
   "language": "python",
   "name": "python3"
  },
  "language_info": {
   "codemirror_mode": {
    "name": "ipython",
    "version": 3
   },
   "file_extension": ".py",
   "mimetype": "text/x-python",
   "name": "python",
   "nbconvert_exporter": "python",
   "pygments_lexer": "ipython3",
   "version": "3.6.1"
  },
  "rf_version": 1
 },
 "nbformat": 4,
 "nbformat_minor": 2
}
