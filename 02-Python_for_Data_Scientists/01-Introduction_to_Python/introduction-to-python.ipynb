{
 "cells": [
  {
   "cell_type": "markdown",
   "metadata": {
    "tags": [
     "s1",
     "content",
     "l1"
    ]
   },
   "source": [
    "# Intro to Python\n",
    "\n",
    "Python is a simple, easy-to-learn, pseudo-code resembling programming language. It is rich with all the features of any object oriented language. Scientists and Mathematicians have been using python since its inception and hence is popular for analytical tasks. Python is also known for its brevity. \n",
    "\n",
    "## Why is Python a Favorite of Data Scientists?\n",
    "\n",
    "Python is interactive and has a lot of flexibility such as not necessitating declaration of complex types of variables. This helps Data Scientists easily translate their ideas into experiments. Python offers extensive libraries such as pandas and scikit-learn. Any area of Data Science will most likely have libraries in python available. We shall therefore be using Python throughout the course.  Let us refresh some of the concepts in python starting with variables. The Machine Learning/AI Engineers use the object-oriented programming for writing production code. It was developed by Guido van Rossum.\n",
    "\n",
    "## Data types\n",
    "\n",
    "<img src=\"../images/python_data_structures.png\" style=\"width: 650px;\">\n",
    "\n",
    "### Variables\n",
    "\n",
    "Python variables do not need declaration or specification of data type. For example,\n",
    "\n",
    "```\n",
    "var = 5\n",
    "var = 5.0\n",
    "var = \"string\"\n",
    "```\n",
    "\n",
    "are all correct assignments.\n",
    "\n",
    "The same variable (value) can be assigned to multiple variables in a sequence as shown below unlike many other languages which allow single variable assignment.\n",
    "\n",
    "```\n",
    "var_a = var_b = var_c = 5\n",
    "```\n",
    "\n",
    "\n",
    "<b>Let us begin coding with our first exercise. Through out this course pay close attention to the variable names. To pass the exercises, you must use the same variable names provided in the exercise.</b>\n",
    "\n",
    "\n",
    "### Exercise\n",
    "\n",
    "Initialize and print \n",
    "* a) an integer variable (x) with value 4\n",
    "* b) a floating point variable (y) with value 6.78\n",
    "* c) a string variable (z) with value 'Hello'\n",
    "* d) re-assign all three variables with a string 'I love python' and print all three variables.\n",
    "\n",
    "The objective of this task is to show the ease of re-assigning a variable in python. The variable does not need to be typecasted and python automatically assigns the data type to the variable based on the value it is assigned. (i.e., If x='Hello', then 'x' is automatically identified by python as a string variable. If 'x' is re-assigned a value of 12.6, say x=12.6, then 'x' is automatically identified as a float)"
   ]
  },
  {
   "cell_type": "code",
   "execution_count": 1,
   "metadata": {
    "collapsed": true,
    "tags": [
     "s1",
     "ce",
     "l1"
    ]
   },
   "outputs": [],
   "source": [
    "# Initialize the variables"
   ]
  },
  {
   "cell_type": "code",
   "execution_count": 2,
   "metadata": {
    "collapsed": true,
    "tags": [
     "s1",
     "l1",
     "hint"
    ]
   },
   "outputs": [],
   "source": [
    "# Please make sure you use the variables x,y,z only to do your exercise and pass the exercise. If you use other variables, you might not get right results."
   ]
  },
  {
   "cell_type": "code",
   "execution_count": 3,
   "metadata": {
    "tags": [
     "s1",
     "l1",
     "ans"
    ]
   },
   "outputs": [
    {
     "name": "stdout",
     "output_type": "stream",
     "text": [
      "4 6.78 Hello\n",
      "I love python I love python I love python\n"
     ]
    }
   ],
   "source": [
    "x = 4\n",
    "y = 6.78\n",
    "z = 'Hello'\n",
    "\n",
    "print (x, y, z)\n",
    "\n",
    "# Re-assigning all three variables\n",
    "x = y = z = 'I love python'\n",
    "print (x, y, z)"
   ]
  },
  {
   "cell_type": "code",
   "execution_count": 4,
   "metadata": {
    "tags": [
     "s1",
     "hid",
     "l1"
    ]
   },
   "outputs": [],
   "source": [
    "ref_tmp_var = False\n",
    "\n",
    "# ref_assert_var\n",
    "\n",
    "ref_assert_var = False\n",
    "try:\n",
    "    if (x == y) and (x == z):\n",
    "        ref_assert_var = True\n",
    "        ref_tmp_var = True\n",
    "    else:\n",
    "        ref_assert_var = False\n",
    "        print('Please follow the instructions given and use the same variables provided in the instructions.')\n",
    "except Exception:\n",
    "    print('Please follow the instructions given and use the same variables provided in the instructions.')\n",
    "\n",
    "\n",
    "assert ref_tmp_var"
   ]
  }
 ],
 "metadata": {
  "anaconda-cloud": {},
  "executed_sections": [],
  "kernelspec": {
   "display_name": "Python 3",
   "language": "python",
   "name": "python3"
  },
  "language_info": {
   "codemirror_mode": {
    "name": "ipython",
    "version": 3
   },
   "file_extension": ".py",
   "mimetype": "text/x-python",
   "name": "python",
   "nbconvert_exporter": "python",
   "pygments_lexer": "ipython3",
   "version": "3.6.1"
  }
 },
 "nbformat": 4,
 "nbformat_minor": 2
}
