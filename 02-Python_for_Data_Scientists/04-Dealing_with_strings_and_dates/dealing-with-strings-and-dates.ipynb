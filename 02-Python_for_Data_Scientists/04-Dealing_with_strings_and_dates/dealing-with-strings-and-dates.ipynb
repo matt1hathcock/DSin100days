{
 "cells": [
  {
   "cell_type": "markdown",
   "metadata": {
    "tags": [
     "content",
     "l6",
     "s6"
    ]
   },
   "source": [
    "# Dealing with Strings and Dates\n",
    "\n",
    "## Strings\n",
    "\n",
    "A string is a sequence of characters.\n",
    "\n",
    "Strings in python are easy to work with. \n",
    "\n",
    "\n",
    "### String Creation\n",
    "\n",
    "A string can be created by enclosing characters inside single quotes or double quotes.\n",
    "\n",
    "```python\n",
    "str = 'This is a string'\n",
    "\n",
    "str2 = \"This is also a string\"\n",
    "\n",
    "```\n",
    "Here are the commonly used string operations:\n",
    "\n",
    "\n",
    "### Concatenation:\n",
    "\n",
    "To concatenate two strings, \"chair\" and \"table\", you can use:\n",
    "\n",
    "```python\n",
    "furniture = \"chair\" + \", table\"\n",
    "```\n",
    "\n",
    "### Other operations:\n",
    "\n",
    ".lower(), .upper() to lower & upper case the strings\n",
    "\n",
    "Ref: https://docs.python.org/3/library/string.html\n",
    "\n",
    "### Regular Expressions:\n",
    "\n",
    "You can use 're' package to work with regular expressions. For example the following code can be used to find the position of the string\n",
    "\n",
    "```python\n",
    "import re -- Importing re library\n",
    "mangoes = re.search(\"Mango\", \"This is a Mango\") -- Searching for the first occurance of string Mango\n",
    "mangoes.group(0)\n",
    "print (mangoes)\n",
    "<_sre.SRE_Match object; span=(10, 15), match='Mango'> -- Printing the search results with 10 as the starting index of Mango and 15 as the ending index of the mango in the input string\n",
    "```\n",
    "\n",
    "will contain the matches.\n",
    "\n",
    "\n",
    "Ref: https://docs.python.org/3/library/re.html\n",
    "\n",
    "### Exercise\n",
    "\n",
    "* a) Given two strings a = \"hello! How are you?\" and b = \"how can I help you? \", concatenate them into a new string c. Print c\n",
    "* b) Use regular expressions to search for 'hel' in string c and assign it to variable hel_strings"
   ]
  },
  {
   "cell_type": "code",
   "execution_count": 15,
   "metadata": {
    "tags": [
     "ce",
     "l6",
     "s6"
    ]
   },
   "outputs": [
    {
     "name": "stdout",
     "output_type": "stream",
     "text": [
      "hello! How are you? how can I help you?\n"
     ]
    }
   ],
   "source": [
    "a = \"hello! How are you? \"\n",
    "b = \"how can I help you?\"\n",
    "c = a + b\n",
    "print (c)\n",
    "\n",
    "# regular expression"
   ]
  },
  {
   "cell_type": "code",
   "execution_count": 16,
   "metadata": {
    "collapsed": true,
    "tags": [
     "l6",
     "s6",
     "hint"
    ]
   },
   "outputs": [],
   "source": [
    "# After successful execution of this exercise, we encourage you to try to find the index of second 'hel' for fun and practice."
   ]
  },
  {
   "cell_type": "code",
   "execution_count": 17,
   "metadata": {
    "tags": [
     "l6",
     "s6",
     "ans"
    ]
   },
   "outputs": [
    {
     "name": "stdout",
     "output_type": "stream",
     "text": [
      "hel\n"
     ]
    }
   ],
   "source": [
    "import re\n",
    "hel_strings = re.search(\"hel\", c)\n",
    "print(hel_strings.group(0))"
   ]
  },
  {
   "cell_type": "code",
   "execution_count": 18,
   "metadata": {
    "collapsed": true,
    "tags": [
     "hid",
     "s6",
     "l6"
    ]
   },
   "outputs": [],
   "source": [
    "ref_tmp_var = False\n",
    "\n",
    "# ref_assert_var\n",
    "\n",
    "try:\n",
    "    if(hel_strings.group(0) == \"hel\"):\n",
    "        ref_assert_var = True\n",
    "        ref_tmp_var = True\n",
    "    else:\n",
    "        ref_assert_var = False\n",
    "        print('Please follow the instructions given and use the same variables provided in the instructions.')\n",
    "except Exception:\n",
    "    print('Please follow the instructions given and use the same variables provided in the instructions.')\n",
    "\n",
    "assert ref_tmp_var"
   ]
  },
  {
   "cell_type": "markdown",
   "metadata": {},
   "source": [
    "## Additional String Operations\n",
    "\n",
    "### Accessing the characters\n",
    "\n",
    "The individual characters of a string can be accessed by using indexing. Similarly a range of characters of a string can be accessed by using slicing. In python string indices start from 0.\n",
    "\n",
    "```python\n",
    "str1 = 'A String example'\n",
    "print('str1 = ', str1)\n",
    "\n",
    "#Print the first character\n",
    "print('str1[0] = ', str1[0])\n",
    "```\n",
    "\n",
    "\n",
    "In order to access a range of characters a slice could be used.\n",
    "\n",
    "```python\n",
    "#To access the substring exam from str1, we could slice from 9 to 13th character (13 excluded) \n",
    "print('str[9:13] = ', str[9:13])\n",
    "\n",
    "```\n",
    "\n",
    "### Exercise\n",
    "\n",
    "In the below exercise access the substring \"Python\" from the input string,  \"Its awesome working with Python!\" and assign it to variable str_python"
   ]
  },
  {
   "cell_type": "code",
   "execution_count": 19,
   "metadata": {},
   "outputs": [],
   "source": [
    "str_input = 'Its awesome working with Python!'\n",
    "\n",
    "#Add code to fetch the string \"Python\" from above input\n"
   ]
  },
  {
   "cell_type": "markdown",
   "metadata": {},
   "source": [
    "Use slicing of string"
   ]
  },
  {
   "cell_type": "code",
   "execution_count": 20,
   "metadata": {},
   "outputs": [
    {
     "name": "stdout",
     "output_type": "stream",
     "text": [
      "str_python =  Python\n"
     ]
    }
   ],
   "source": [
    "str_python = str_input[25:31]\n",
    "print('str_python = ', str_python)"
   ]
  },
  {
   "cell_type": "code",
   "execution_count": 21,
   "metadata": {
    "collapsed": true
   },
   "outputs": [],
   "source": [
    "ref_tmp_var = False\n",
    "\n",
    "# ref_assert_var\n",
    "\n",
    "try:\n",
    "    if True:\n",
    "        ref_assert_var = True\n",
    "        ref_tmp_var = True\n",
    "    else:\n",
    "        ref_assert_var = False\n",
    "        print('Please follow the instructions given and use the same variables provided in the instructions.')\n",
    "except Exception:\n",
    "    print('Please follow the instructions given and use the same variables provided in the instructions.')\n",
    "\n",
    "assert ref_tmp_var"
   ]
  },
  {
   "cell_type": "markdown",
   "metadata": {},
   "source": [
    "\n",
    "### Replace a String\n",
    "\n",
    "String replace() method is used to replace a given substring within a string.\n",
    "\n",
    "```python\n",
    "str1 = 'firststring'\n",
    "print('str1 = ', str1)\n",
    "\n",
    "#Print the first character\n",
    "str2 = str1.replace('first','second')\n",
    "print('str2 = ', str2)\n",
    "```\n"
   ]
  },
  {
   "cell_type": "code",
   "execution_count": 22,
   "metadata": {},
   "outputs": [
    {
     "name": "stdout",
     "output_type": "stream",
     "text": [
      "str1 =  firststring\n",
      "str2 =  secondstring\n"
     ]
    }
   ],
   "source": [
    "str1 = 'firststring'\n",
    "print('str1 = ', str1)\n",
    "\n",
    "#Print the first character\n",
    "str2 = str1.replace('first','second')\n",
    "print('str2 = ', str2)"
   ]
  },
  {
   "cell_type": "markdown",
   "metadata": {},
   "source": []
  },
  {
   "cell_type": "code",
   "execution_count": null,
   "metadata": {
    "collapsed": true
   },
   "outputs": [],
   "source": []
  },
  {
   "cell_type": "code",
   "execution_count": 23,
   "metadata": {
    "collapsed": true
   },
   "outputs": [],
   "source": [
    "ref_tmp_var = False\n",
    "\n",
    "# ref_assert_var\n",
    "\n",
    "try:\n",
    "    if True:\n",
    "        ref_assert_var = True\n",
    "        ref_tmp_var = True\n",
    "    else:\n",
    "        ref_assert_var = False\n",
    "        print('Please follow the instructions given and use the same variables provided in the instructions.')\n",
    "except Exception:\n",
    "    print('Please follow the instructions given and use the same variables provided in the instructions.')\n",
    "\n",
    "assert ref_tmp_var"
   ]
  },
  {
   "cell_type": "markdown",
   "metadata": {},
   "source": [
    "### Join Two Strings\n",
    "\n",
    "String join() method is used to a given character or string to every character in a string.\n",
    "For example if you want to add a hyphen character between each character in a second string, you could use a join.\n",
    "\n",
    "```python\n",
    "str1 = '-'\n",
    "print('str1 = ', str1)\n",
    "\n",
    "#Print the first character\n",
    "str2 = str1.join('word')\n",
    "print('str2 = ', str2)\n",
    "```\n",
    "\n",
    "### Reverse a String\n",
    "\n",
    "String reversed() method is used to reverse each character in a given string and return an iterator.\n",
    "\n",
    "```python\n",
    "string=\"12345\"\n",
    "print(\"\".join(reversed(string)))\n",
    "```"
   ]
  },
  {
   "cell_type": "code",
   "execution_count": 24,
   "metadata": {},
   "outputs": [
    {
     "name": "stdout",
     "output_type": "stream",
     "text": [
      "str1 =  -\n",
      "str2 =  w-o-r-d\n",
      "54321\n"
     ]
    }
   ],
   "source": [
    "str1 = '-'\n",
    "print('str1 = ', str1)\n",
    "\n",
    "#Print the first character\n",
    "str2 = str1.join('word')\n",
    "print('str2 = ', str2)\n",
    "string=\"12345\"\n",
    "print(\"\".join(reversed(string)))"
   ]
  },
  {
   "cell_type": "markdown",
   "metadata": {},
   "source": [
    "## Differentiating number from strings\n",
    "\n",
    "In Data Science context, you often encounter a situation to deal with numeric values as opposed to strings. This task gets complicated due to the fact that the input comes from text files such as csv files.\n",
    "\n",
    "In such cases, you need a mechanism to handle numbers separately from strings. Before you could do that, you need to sepatare them out using python constructs.\n",
    "\n",
    "```python\n",
    "a = \"10\"\n",
    "b = \"100.5\"\n",
    "try:\n",
    "    intvalue = int(a)\n",
    "except ValueError:\n",
    "    # Oops, it wasn't an int, and that's fine\n",
    "    pass\n",
    "else:\n",
    "    # It was an int, and now we have the int value\n",
    "    outintvalue = intvalue/2\n",
    "\n",
    "try:\n",
    "    floatvalue = float(a)\n",
    "except ValueError:\n",
    "    # Oops, it wasn't an int, and that's fine\n",
    "    pass\n",
    "else:\n",
    "    # It was an int, and now we have the int value\n",
    "    outvalue = floatvalue*2\n",
    "\n",
    "\n",
    "```\n",
    "\n",
    "### Exercise\n",
    "\n",
    "Given an input variable, \"invar\", write python code to output a variable \"outvar\". In case of string variable, output \"String:<input string>\". In case of integer input value, output 2*inputvar."
   ]
  },
  {
   "cell_type": "code",
   "execution_count": 25,
   "metadata": {},
   "outputs": [
    {
     "name": "stdout",
     "output_type": "stream",
     "text": [
      "60\n"
     ]
    }
   ],
   "source": [
    "inputvar = \"30\"\n",
    "try:\n",
    "    intvalue = int(inputvar)\n",
    "except ValueError:\n",
    "    outvar = \"String:\" + inputvar\n",
    "    pass\n",
    "\n",
    "else:\n",
    "    # It was an int, and now we have the int value\n",
    "    outvar = intvalue*2\n",
    "    \n",
    "print(outvar)\n"
   ]
  },
  {
   "cell_type": "markdown",
   "metadata": {},
   "source": [
    "## Date and Time operations\n",
    "\n",
    "In python, the datetime module supplies classes for manipulating dates and times in both simple and complex ways\n",
    "\n",
    "In datetime module there are classes such as date, time and datetime that provide a number of function to deal with dates, times and time intervals. Date and datetime are an object in Python. When you manipulate these objects you are actually working with the objects and not the string.\n",
    "\n",
    "date – Manipulate just date ( Month, day, year) <br>\n",
    "time – Time independent of the day (Hour, minute, second, microsecond)<br>\n",
    "datetime – Combination of time and date (Month, day, year, hour, second, microsecond)<br>\n",
    "timedelta— A duration of time used for manipulating dates<br>\n",
    "tzinfo— An abstract class for dealing with time zones<br>\n",
    "\n",
    "\n",
    "```python\n",
    "from datetime import date\n",
    "from datetime import time\n",
    "from datetime import datetime\n",
    "today = date.today()\n",
    "now = time.now()\n",
    "print(today)\n",
    "print(now)\n",
    "\n",
    "```\n"
   ]
  },
  {
   "cell_type": "code",
   "execution_count": 26,
   "metadata": {},
   "outputs": [
    {
     "name": "stdout",
     "output_type": "stream",
     "text": [
      "2018-07-20\n"
     ]
    }
   ],
   "source": [
    "from datetime import date\n",
    "from datetime import time\n",
    "from datetime import datetime\n",
    "today = date.today()\n",
    "print(today)\n"
   ]
  },
  {
   "cell_type": "markdown",
   "metadata": {},
   "source": [
    "### Date operations\n",
    "\n",
    "date.today function has several properties associated with it. We can print individual day/month/year by using the day, month and year component.\n",
    "\n",
    "For example:\n",
    "\n",
    "```python\n",
    "\n",
    "day = today.day\n",
    "print(\"Day component is \", day)\n",
    "\n",
    "\n",
    "month = today.month\n",
    "print(\"Month component is \", month)\n",
    "\n",
    "\n",
    "year = today.year\n",
    "print(\"Year component is \", year)\n",
    "\n",
    "\n",
    "\n",
    "```\n",
    "\n",
    "\n",
    "### Time operations\n",
    "\n",
    "datetime object has individual components representing hour, minute, seconds by using the properties.\n",
    "\n",
    "For example:\n",
    "\n",
    "```python\n",
    "\n",
    "day = today.day\n",
    "print(\"Day component is \", day)\n",
    "\n",
    "\n",
    "month = today.month\n",
    "print(\"Month component is \", month)\n",
    "\n",
    "\n",
    "year = today.year\n",
    "print(\"Year component is \", year)\n",
    "\n",
    "\n",
    "\n",
    "```\n"
   ]
  },
  {
   "cell_type": "code",
   "execution_count": 27,
   "metadata": {},
   "outputs": [
    {
     "name": "stdout",
     "output_type": "stream",
     "text": [
      "Day component is  20\n",
      "Month component is  7\n",
      "Year component is  2018\n",
      "Datetime :  2018-07-20 17:36:49.862344\n",
      "Hour component is  17\n",
      "Minute component is  36\n",
      "Second component is  49\n"
     ]
    }
   ],
   "source": [
    "day = today.day\n",
    "print(\"Day component is \", day)\n",
    "\n",
    "\n",
    "month = today.month\n",
    "print(\"Month component is \", month)\n",
    "\n",
    "\n",
    "year = today.year\n",
    "print(\"Year component is \", year)\n",
    "\n",
    "\n",
    "datetime1 = datetime.now()\n",
    "print(\"Datetime : \", datetime1)\n",
    "\n",
    "hour = datetime1.hour\n",
    "print(\"Hour component is \", hour)\n",
    "\n",
    "\n",
    "minute = datetime1.minute\n",
    "print(\"Minute component is \", minute)\n",
    "\n",
    "\n",
    "seconds = datetime1.second\n",
    "print(\"Second component is \", seconds)"
   ]
  },
  {
   "cell_type": "markdown",
   "metadata": {
    "collapsed": true
   },
   "source": [
    "### Formatting DateTime Strings\n",
    "\n",
    "In datetime module, the strptime method is used for parsing a formatted date string to a datetime object.\n",
    "The string and the format it represents is provided as the parameters. See code example below.\n",
    "\n",
    "```python\n",
    "from datetime import datetime\n",
    "\n",
    "datetime_obj = datetime.strptime('Jul 12 2018 7:24PM', '%b %d %Y %I:%M%p')\n",
    "\n",
    "```\n",
    "\n",
    "While representing the datetime format, here are the format string parts and what they represent.\n",
    "\n",
    "%d\tDay of the month as a zero-padded decimal <br>\n",
    "%b\tMonth as locale’s abbreviated name. <br>\n",
    "%Y\tYear with century as a decimal number. <br>\n",
    "%I\tHour (12-hour clock) as a zero-padded decimal number. <br>\n",
    "%M\tMinute as a zero-padded decimal number. <br>\n",
    "%p\tLocale’s equivalent of either AM or PM. <br>\n"
   ]
  },
  {
   "cell_type": "code",
   "execution_count": 28,
   "metadata": {},
   "outputs": [
    {
     "name": "stdout",
     "output_type": "stream",
     "text": [
      "2018-07-12 19:24:00\n"
     ]
    }
   ],
   "source": [
    "from datetime import datetime\n",
    "\n",
    "datetime_obj = datetime.strptime('Jul 12 2018 7:24PM', '%b %d %Y %I:%M%p')\n",
    "print(datetime_obj)"
   ]
  },
  {
   "cell_type": "markdown",
   "metadata": {},
   "source": [
    "### Time delta\n",
    "\n",
    "timedelta object represents a duration, the difference between two dates or times. This difference could be represented as years, months, days, hours, minutes, seconds or any combination there of. Look at the code example below, where one year difference is specified in different ways.\n",
    "\n",
    "```python\n",
    "from datetime import timedelta\n",
    "\n",
    "#One year represented as 365 days\n",
    "year = timedelta(days=365)\n",
    "\n",
    "#One year represented as combination of weeks, days etc.\n",
    "another_year = timedelta(weeks=40, days=84, hours=23, minutes=50, seconds=600)  # adds up to 365 days\n",
    "\n",
    "#compare if both are same. The result is True\n",
    "year == another_year\n",
    "\n",
    "```"
   ]
  },
  {
   "cell_type": "code",
   "execution_count": 29,
   "metadata": {},
   "outputs": [
    {
     "data": {
      "text/plain": [
       "True"
      ]
     },
     "execution_count": 29,
     "metadata": {},
     "output_type": "execute_result"
    }
   ],
   "source": [
    "from datetime import timedelta\n",
    "\n",
    "year = timedelta(days=365)\n",
    "another_year = timedelta(weeks=40, days=84, hours=23, minutes=50, seconds=600)  # adds up to 365 days\n",
    "\n",
    "year == another_year\n"
   ]
  }
 ],
 "metadata": {
  "anaconda-cloud": {},
  "executed_sections": [],
  "kernelspec": {
   "display_name": "Python 3",
   "language": "python",
   "name": "python3"
  },
  "language_info": {
   "codemirror_mode": {
    "name": "ipython",
    "version": 3
   },
   "file_extension": ".py",
   "mimetype": "text/x-python",
   "name": "python",
   "nbconvert_exporter": "python",
   "pygments_lexer": "ipython3",
   "version": "3.6.1"
  }
 },
 "nbformat": 4,
 "nbformat_minor": 2
}
