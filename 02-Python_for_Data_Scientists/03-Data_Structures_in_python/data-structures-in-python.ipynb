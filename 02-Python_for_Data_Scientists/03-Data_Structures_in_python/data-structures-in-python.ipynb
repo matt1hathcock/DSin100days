{
 "cells": [
  {
   "cell_type": "markdown",
   "metadata": {},
   "source": [
    "## Data types\n",
    "\n",
    "<img src=\"../images/python_data_structures.png\" style=\"width: 650px;\">\n",
    "\n",
    "### Variables\n",
    "\n",
    "Python variables do not need declaration or specification of data type. For example,\n",
    "\n",
    "```\n",
    "var = 5\n",
    "var = 5.0\n",
    "var = \"string\"\n",
    "```\n",
    "\n",
    "are all correct assignments.\n",
    "\n",
    "The same variable (value) can be assigned to multiple variables in a sequence as shown below unlike many other languages which allow single variable assignment.\n",
    "\n",
    "```\n",
    "var_a = var_b = var_c = 5\n",
    "```\n",
    "\n",
    "\n",
    "<b>Let us begin coding with our first exercise. Through out this course pay close attention to the variable names. To pass the exercises, you must use the same variable names provided in the exercise.</b>\n",
    "\n",
    "\n",
    "### Exercise\n",
    "\n",
    "Initialize and print \n",
    "* a) an integer variable (x) with value 4\n",
    "* b) a floating point variable (y) with value 6.78\n",
    "* c) a string variable (z) with value 'Hello'\n",
    "* d) re-assign all three variables with a string 'I love python' and print all three variables.\n",
    "\n",
    "The objective of this task is to show the ease of re-assigning a variable in python. The variable does not need to be typecasted and python automatically assigns the data type to the variable based on the value it is assigned. (i.e., If x='Hello', then 'x' is automatically identified by python as a string variable. If 'x' is re-assigned a value of 12.6, say x=12.6, then 'x' is automatically identified as a float)"
   ]
  },
  {
   "cell_type": "code",
   "execution_count": 8,
   "metadata": {
    "collapsed": true
   },
   "outputs": [],
   "source": [
    "# Initialize the variables"
   ]
  },
  {
   "cell_type": "code",
   "execution_count": 9,
   "metadata": {
    "collapsed": true
   },
   "outputs": [],
   "source": [
    "# Please make sure you use the variables x,y,z only to do your exercise and pass the exercise. If you use other variables, you might not get right results."
   ]
  },
  {
   "cell_type": "code",
   "execution_count": 10,
   "metadata": {},
   "outputs": [
    {
     "name": "stdout",
     "output_type": "stream",
     "text": [
      "4 6.78 Hello\n",
      "I love python I love python I love python\n"
     ]
    }
   ],
   "source": [
    "x = 4\n",
    "y = 6.78\n",
    "z = 'Hello'\n",
    "\n",
    "print (x, y, z)\n",
    "\n",
    "# Re-assigning all three variables\n",
    "x = y = z = 'I love python'\n",
    "print (x, y, z)"
   ]
  },
  {
   "cell_type": "code",
   "execution_count": 11,
   "metadata": {
    "collapsed": true
   },
   "outputs": [],
   "source": [
    "ref_tmp_var = False\n",
    "\n",
    "# ref_assert_var\n",
    "\n",
    "ref_assert_var = False\n",
    "try:\n",
    "    if (x == y) and (x == z):\n",
    "        ref_assert_var = True\n",
    "        ref_tmp_var = True\n",
    "    else:\n",
    "        ref_assert_var = False\n",
    "        print('Please follow the instructions given and use the same variables provided in the instructions.')\n",
    "except Exception:\n",
    "    print('Please follow the instructions given and use the same variables provided in the instructions.')\n",
    "\n",
    "\n",
    "assert ref_tmp_var"
   ]
  },
  {
   "cell_type": "markdown",
   "metadata": {
    "tags": [
     "l2",
     "content",
     "s2"
    ]
   },
   "source": [
    "# Data Structures in Python\n",
    "\n",
    "\n",
    "## Python Lists\n",
    "\n",
    "Python lists are equivalent to arrays. For example:\n",
    "\n",
    "fruits = [\"Mango\", \"Banana\", \"Apple\", \"Orange\"]\n",
    "\n",
    "Python lists can have multiple types of objects. For example:\n",
    "\n",
    "mixed_list = [\"Apple\", 3, 25.68, \"This is a mixed list\"]\n",
    "\n",
    "### Exercise\n",
    "\n",
    "Create a list vegetables with Tomato, Spinach, Asparagus, Lettuce and Jalapenos as the elements and print the list out"
   ]
  },
  {
   "cell_type": "code",
   "execution_count": 12,
   "metadata": {
    "collapsed": true,
    "tags": [
     "l2",
     "ce",
     "s2"
    ]
   },
   "outputs": [],
   "source": [
    "# Create a list of vegetables\n"
   ]
  },
  {
   "cell_type": "code",
   "execution_count": 13,
   "metadata": {
    "collapsed": true,
    "tags": [
     "l2",
     "s2",
     "hint"
    ]
   },
   "outputs": [],
   "source": [
    "# Use 'vegetables' as the variable name of the list."
   ]
  },
  {
   "cell_type": "code",
   "execution_count": 14,
   "metadata": {
    "tags": [
     "l2",
     "s2",
     "ans"
    ]
   },
   "outputs": [
    {
     "name": "stdout",
     "output_type": "stream",
     "text": [
      "['Tomato', 'Spinach', 'Asparagus', 'Lettuce', 'Jalapenos']\n"
     ]
    }
   ],
   "source": [
    "vegetables = [\"Tomato\", \"Spinach\", \"Asparagus\", \"Lettuce\", \"Jalapenos\"]\n",
    "print (vegetables)"
   ]
  },
  {
   "cell_type": "code",
   "execution_count": 15,
   "metadata": {
    "collapsed": true,
    "tags": [
     "l2",
     "hid",
     "s2"
    ]
   },
   "outputs": [],
   "source": [
    "ref_tmp_var = False\n",
    "\n",
    "# ref_assert_var\n",
    "\n",
    "try:\n",
    "    import numpy as np\n",
    "\n",
    "    if np.all(vegetables == [\"Tomato\", \"Spinach\", \"Asparagus\", \"Lettuce\", \"Jalapenos\"]):\n",
    "        ref_assert_var = True\n",
    "        ref_tmp_var = True\n",
    "    else:\n",
    "        ref_assert_var = False\n",
    "        print('Please follow the instructions given and use the same variables provided in the instructions.')\n",
    "except Exception:    \n",
    "    print('Please follow the instructions given and use the same variables provided in the instructions.')\n",
    "\n",
    "assert ref_tmp_var"
   ]
  },
  {
   "cell_type": "markdown",
   "metadata": {
    "tags": [
     "l3",
     "s3",
     "content"
    ]
   },
   "source": [
    "## Indexing in a list\n",
    "\n",
    "You can access the objects with the indices:\n",
    "\n",
    "To access the first object:\n",
    "\n",
    "```\n",
    ">> fruits[0]\n",
    "'Mango'\n",
    "```\n",
    "\n",
    "To access the last object, esp when the length of the list is large, a useful index method is to use negative index that refers to objects from the end of the list:\n",
    "\n",
    "```\n",
    ">> fruits[-1]\n",
    "'Orange'\n",
    "```\n",
    "\n",
    "The flexibility of python is that it can contain various objects of different types unlike many other languages:\n",
    "\n",
    "```\n",
    "collection = [\"cost\", 100, \"Apples\", 5.0]\n",
    "```\n",
    "\n",
    "Ref: https://docs.python.org/3/tutorial/datastructures.html\n",
    "\n",
    "<img src=\"https://s3.amazonaws.com/rfv2/list.png\" style=\"width: 170px;\">\n",
    "\n",
    "### Exercise\n",
    "\n",
    "* Retrieve the third element in the vegetables list created before and assign it to variable, veg_2\n",
    "* Retrieve the last element using the negative index and assign it to the varible veg_1\n",
    "* Print out veg_1 and veg_2 variables"
   ]
  },
  {
   "cell_type": "code",
   "execution_count": 16,
   "metadata": {
    "collapsed": true,
    "tags": [
     "l3",
     "s3",
     "ce"
    ]
   },
   "outputs": [],
   "source": [
    "#"
   ]
  },
  {
   "cell_type": "code",
   "execution_count": 17,
   "metadata": {
    "collapsed": true,
    "tags": [
     "l3",
     "s3",
     "hint"
    ]
   },
   "outputs": [],
   "source": [
    "# Use the indexing to retrieve the variables You don't have to re-initialize the variable 'vegetables' here, as it is already initialized by you in the previous exercise and available in memory for you to reuse through out this lesson.\n",
    "# Index of a list starts with 0"
   ]
  },
  {
   "cell_type": "code",
   "execution_count": 18,
   "metadata": {
    "tags": [
     "l3",
     "s3",
     "ans"
    ]
   },
   "outputs": [
    {
     "name": "stdout",
     "output_type": "stream",
     "text": [
      "Asparagus Jalapenos\n"
     ]
    }
   ],
   "source": [
    "veg_2 = vegetables[2]\n",
    "veg_1 = vegetables[-1]\n",
    "print (veg_2, veg_1)"
   ]
  },
  {
   "cell_type": "code",
   "execution_count": 19,
   "metadata": {
    "collapsed": true,
    "tags": [
     "l3",
     "s3",
     "hid"
    ]
   },
   "outputs": [],
   "source": [
    "ref_tmp_var = False\n",
    "\n",
    "# ref_assert_var\n",
    "\n",
    "try:\n",
    "    if (veg_2 == \"Asparagus\") and (veg_1 == \"Jalapenos\"):\n",
    "        ref_assert_var = True\n",
    "        ref_tmp_var = True\n",
    "    else:\n",
    "        ref_assert_var = False\n",
    "        print('Please follow the instructions given and use the same variables provided in the instructions.')\n",
    "except Exception:\n",
    "    print('Please follow the instructions given and use the same variables provided in the instructions.')\n",
    "\n",
    "assert ref_tmp_var"
   ]
  },
  {
   "cell_type": "markdown",
   "metadata": {
    "tags": [
     "l4",
     "s4",
     "content"
    ]
   },
   "source": [
    "## List As Stack\n",
    "\n",
    "<img src=\"https://s3.amazonaws.com/rfv2/stack.png\" style=\"width: 350px;\">\n",
    "A list in python can be used as a stack and is flexible to support stack operations such as push and pop.\n",
    "\n",
    "#### Push\n",
    "\n",
    "Use the .append() command to push objects to a list.\n",
    "\n",
    "#### Pop\n",
    "\n",
    "Use the .pop() command to pop objects from a list.\n",
    "\n",
    "### Exercise\n",
    "\n",
    "* Use Stack operations on the vegetables list to first pop Jalapenos off the list, and then add Celery. Print the new list out.\n",
    "\n"
   ]
  },
  {
   "cell_type": "code",
   "execution_count": 20,
   "metadata": {
    "collapsed": true,
    "tags": [
     "l4",
     "s4",
     "ce"
    ]
   },
   "outputs": [],
   "source": [
    "vegetables = [\"Tomato\", \"Spinach\", \"Asparagus\", \"Lettuce\", \"Jalapenos\"]\n",
    "\n",
    "# pop jalapenos, push celery and print"
   ]
  },
  {
   "cell_type": "code",
   "execution_count": 21,
   "metadata": {
    "collapsed": true,
    "tags": [
     "s4",
     "l4",
     "hint"
    ]
   },
   "outputs": [],
   "source": [
    "# We recommend re-initializing variable 'vegetables' with Tomano, Spinach, Asparagus, Lettuce and Jalapenos at the beginning of this exercise. When you run the code push and pop operations change the data in the vegetables list. If you do not initialize the variable vegetables, when you execute the same code multiple times, you might get different results as the new code gets executed on changed list.\n",
    "# Re-initialize the vegetables list by going back to the previous exercise and running it again or create a new vegetables list with in this exercise.\n",
    "# Do this re-inializing step first, before each time you run the pop operation."
   ]
  },
  {
   "cell_type": "code",
   "execution_count": 22,
   "metadata": {
    "tags": [
     "s4",
     "l4",
     "ans"
    ]
   },
   "outputs": [
    {
     "data": {
      "text/plain": [
       "['Tomato', 'Spinach', 'Asparagus', 'Lettuce', 'Celery']"
      ]
     },
     "execution_count": 22,
     "metadata": {},
     "output_type": "execute_result"
    }
   ],
   "source": [
    "vegetables.pop(-1)\n",
    "vegetables.append(\"Celery\")\n",
    "vegetables"
   ]
  },
  {
   "cell_type": "code",
   "execution_count": 23,
   "metadata": {
    "collapsed": true,
    "tags": [
     "s4",
     "hid",
     "l4"
    ]
   },
   "outputs": [],
   "source": [
    "ref_tmp_var = False\n",
    "\n",
    "try:\n",
    "    import numpy as np\n",
    "\n",
    "    if np.all(vegetables == ['Tomato', 'Spinach', 'Asparagus', 'Lettuce', 'Celery']):\n",
    "        ref_assert_var = True\n",
    "        ref_tmp_var = True\n",
    "    else:\n",
    "        ref_assert_var = False\n",
    "        print('Please follow the instructions given and use the same variables provided in the instructions.')\n",
    "except Exception:\n",
    "    print('Please follow the instructions given and use the same variables provided in the instructions.')\n",
    "\n",
    "assert ref_tmp_var"
   ]
  },
  {
   "cell_type": "markdown",
   "metadata": {
    "tags": [
     "l5",
     "content",
     "s5"
    ]
   },
   "source": [
    "## List As Queue\n",
    "\n",
    "A queue is a data structure similar to real-life queue systems. A queue follows FIFO process, i.e. First-in-First-out, for insertion and deletion of elements. For example, lets assume one end of a queue to be front and the other to be rear end. When the first element is inserted in this queue, because it is the only element present, it faces both front and rear end. But when the second element is inserted, this element faces the front end and the first element takes the rear end. From then on, every element that gets added faces the front end and the first element remains at the rear end, till its deleted. After its deletion, the second element takes rear end.\n",
    "\n",
    "Python lists can be used as queues as well. The collections module contains a function called 'deque'. It converts any list variable into a 'double-ended queue'. Once the variable is converted into a double ended queue, elements can be added using the 'append' operation and deleted using the 'pop' operation in the FIFO (First-In-First-Out) order. The insertion of an element or the enqueue(append) operation is illustrated in the diagram below:\n",
    "\n",
    "<img src=\"https://s3.amazonaws.com/rfv2/enqueue.png\" style=\"width: 350px;\">\n",
    "\n",
    "Below given example code shows 'pop' operation on a list.\n",
    "\n",
    "from collections import deque\n",
    "\n",
    "fruit_queue = deque([\"Apples\", \"Oranges\", \"Mango\"])\n",
    "fruit_queue.append(\"Banana\")        \n",
    "fruit_queue.popleft()  \n",
    "\n",
    "The output of the block of code given above is:\n",
    "'Apples'. The 'popleft' operation works by removing the first inserted element first (FIFO - First In, First Out) as shown below;\n",
    "\n",
    "<img src=\"../images/deque.png\" style=\"width: 350px;\">\n",
    "\n",
    "### Exercise\n",
    "\n",
    "Convert the vegetables list into a queue with the name 'vegetables_queue' and pop the leftmost element. Print the remaining queue."
   ]
  },
  {
   "cell_type": "code",
   "execution_count": 24,
   "metadata": {
    "collapsed": true,
    "tags": [
     "l5",
     "ce",
     "s5"
    ]
   },
   "outputs": [],
   "source": [
    "from collections import deque\n",
    "vegetables = [\"Tomato\", \"Spinach\", \"Asparagus\", \"Lettuce\", \"Jalapenos\"]\n",
    "vegetables.pop(-1)\n",
    "vegetables.append(\"Celery\")\n",
    "\n",
    "#enter your code here"
   ]
  },
  {
   "cell_type": "code",
   "execution_count": 25,
   "metadata": {
    "collapsed": true,
    "tags": [
     "l5",
     "s5",
     "hint"
    ]
   },
   "outputs": [],
   "source": [
    "# Read the code examples given in 'List as queue' lesson and apply the same"
   ]
  },
  {
   "cell_type": "code",
   "execution_count": 26,
   "metadata": {
    "tags": [
     "l5",
     "s5",
     "ans"
    ]
   },
   "outputs": [
    {
     "name": "stdout",
     "output_type": "stream",
     "text": [
      "deque(['Spinach', 'Asparagus', 'Lettuce', 'Celery'])\n"
     ]
    }
   ],
   "source": [
    "vegetables_queue = deque(vegetables)\n",
    "vegetables_queue.popleft()\n",
    "print(vegetables_queue)"
   ]
  },
  {
   "cell_type": "code",
   "execution_count": 27,
   "metadata": {
    "collapsed": true,
    "tags": [
     "hid",
     "l5",
     "s5"
    ]
   },
   "outputs": [],
   "source": [
    "ref_tmp_var = False\n",
    "\n",
    "# ref_assert_var\n",
    "\n",
    "try:\n",
    "    import numpy as np\n",
    "\n",
    "    if np.all(vegetables_queue == deque(['Spinach', 'Asparagus', 'Lettuce', 'Celery'])):\n",
    "        ref_assert_var = True\n",
    "        ref_tmp_var = True\n",
    "    else:\n",
    "        ref_assert_var = False\n",
    "        print('Please follow the instructions given and use the same variables provided in the instructions.')\n",
    "except Exception:\n",
    "    print('Please follow the instructions given and use the same variables provided in the instructions.')\n",
    "\n",
    "assert ref_tmp_var"
   ]
  },
  {
   "cell_type": "markdown",
   "metadata": {},
   "source": [
    "### Tuples\n",
    "\n",
    "A tuple is a sequence of immutable sequential objects. Tuples use parentheses for access unlike lists and cannot be changed. It is an ordered sequence and used for objects such as coordinates that contain latitude, longitude.\n",
    "\n",
    "Example: \n",
    "\n",
    "```\n",
    "loc = (30.456, 50.436)\n",
    "```\n",
    "\n",
    "Ref: https://docs.python.org/3/c-api/tuple.html\n",
    "\n",
    "### Sets\n",
    "\n",
    "Sets are collection types and very useful for Mathematicians, Statisticians and Data Scientists. A set contains an unordered collection of unique objects of the same type. It is equivalent to the mathematical definition of sets.\n",
    "\n",
    "```\n",
    "even_number_set = set([0, 2, 4, 6])\n",
    "```\n",
    "\n",
    "Ref: https://docs.python.org/3/c-api/set.html\n",
    "\n",
    "### Dictionary\n",
    "\n",
    "Dictionaries are hash maps containing key-value pairs. While the keys need to be unique, the referenced values need not be. The values are accessed via the keys.\n",
    "\n",
    "Example: A dictionary of city to state:\n",
    "```\n",
    "location_dict = {'Boston': 'MA', 'Chicago': 'IL', 'New York': 'NY'}\n",
    "```\n",
    "\n",
    "Ref: https://docs.python.org/3/c-api/dict.html\n",
    "\n",
    "### Exercise\n",
    "\n",
    "Build a location map that contains latitude and longitude of the following cities.\n",
    "\n",
    "Boston: 42.318365, -71.086692<br>Chicago: 41.797568, -87.620958<br>New York: 40.685526, -73.887406<br><br>\n",
    "Assign it to the variable location_map \n",
    "\n",
    "Print out the variable location_map"
   ]
  },
  {
   "cell_type": "code",
   "execution_count": 28,
   "metadata": {
    "collapsed": true
   },
   "outputs": [],
   "source": [
    "location_map = {}"
   ]
  },
  {
   "cell_type": "markdown",
   "metadata": {},
   "source": [
    "Hint: Use dictionary and tuples."
   ]
  },
  {
   "cell_type": "code",
   "execution_count": 29,
   "metadata": {},
   "outputs": [
    {
     "name": "stdout",
     "output_type": "stream",
     "text": [
      "{'Boston': (42.318365, -71.086692), 'Chicago': (41.797568, -87.620958), 'New York': (40.685526, -73.887406)}\n"
     ]
    }
   ],
   "source": [
    "location_map = {'Boston': (42.318365, -71.086692),\n",
    "                'Chicago': (41.797568, -87.620958), \n",
    "                'New York': (40.685526, -73.887406)}\n",
    "print(location_map)"
   ]
  },
  {
   "cell_type": "code",
   "execution_count": 30,
   "metadata": {
    "collapsed": true
   },
   "outputs": [],
   "source": [
    "ref_tmp_var = False\n",
    "\n",
    "try:\n",
    "    location_map_ = {'Boston': (42.318365, -71.086692),\n",
    "                    'Chicago': (41.797568, -87.620958), \n",
    "                    'New York': (40.685526, -73.887406)}\n",
    "\n",
    "    if location_map == location_map_:\n",
    "        ref_assert_var = True\n",
    "        ref_tmp_var = True\n",
    "    else:\n",
    "        ref_assert_var = False\n",
    "        print('Please follow the instructions given and use the same variables provided in the instructions.')\n",
    "except Exception:\n",
    "    print('Please follow the instructions given and use the same variables provided in the instructions.')    \n",
    "\n",
    "assert ref_tmp_var"
   ]
  },
  {
   "cell_type": "markdown",
   "metadata": {},
   "source": [
    "### Nested Lists\n",
    "\n",
    "In real-world data processing you may often need to write programs to store tabular data, such as a set of rows and columns.  \n",
    "Such tables are called matrices or two-dimensional arrays. In Python any table can be represented as a list of lists or nested list(a list, where each element is in turn a list). \n",
    "Here's the python code that creates a two-dimensional array with two rows and three columns \n",
    "\n",
    "```\n",
    "list_of_lists = [[1, 2, 3], [4, 5, 6]]\n",
    "print(list_of_lists[0])\n",
    "print(list_of_lists[1])\n",
    "```\n",
    "\n",
    "Ref: https://docs.python.org/3.6/tutorial/datastructures.html#nested-list-comprehensions\n",
    "\n",
    "#### Exercise\n",
    "\n",
    "Given a list of lists matrix = [[1, 5, 9], [2, 6, 10], [3, 7, 11], [4, 8, 12]], write a python program to transpose the input matrix and set the result in a variable transposed."
   ]
  },
  {
   "cell_type": "code",
   "execution_count": 31,
   "metadata": {},
   "outputs": [
    {
     "name": "stdout",
     "output_type": "stream",
     "text": [
      "[[1, 2, 3, 4], [5, 6, 7, 8], [9, 10, 11, 12]]\n"
     ]
    }
   ],
   "source": [
    "matrix = [[1, 5, 9], [2, 6, 10], [3, 7, 11], [4, 8, 12]]\n",
    "\n",
    "\n",
    "transposed = []\n",
    "for i in range(3):\n",
    "    transposed_row = []\n",
    "    for row in matrix:\n",
    "        transposed_row.append(row[i])\n",
    "    transposed.append(transposed_row)\n",
    "\n",
    "print(transposed)"
   ]
  },
  {
   "cell_type": "markdown",
   "metadata": {},
   "source": [
    "## Nested Dictionaries\n",
    "\n",
    "In Python, a nested dictionary is a dictionary inside a dictionary. It's a collection of dictionaries into one single dictionary.\n",
    "\n",
    "In the below tomato 'lotsnone\n",
    ",''\n",
    "```python\n",
    "fruits_and_veggies = { 'fruits': {'apple': 1,'oranges': 3, 'grapes': 'lots'},\n",
    "                'vegetables': {'tomato': 10,'potatoes': 'none', 'banana' : 'Not a veggie'}}\n",
    "\n",
    "```\n",
    "\n",
    "### Exercise\n",
    "\n",
    "In the fruits_and_veggies dictionary, add another dictionary called 'juices' with the following item '{'pineappleJuice' : 10}'"
   ]
  },
  {
   "cell_type": "code",
   "execution_count": 38,
   "metadata": {},
   "outputs": [
    {
     "data": {
      "text/plain": [
       "{'fruits': {'apple': 1, 'grapes': 'lots', 'oranges': 3},\n",
       " 'juices': {'pineappleJuice': 10},\n",
       " 'vegetables': {'banana': 'Not a veggie', 'potatoes': 'none', 'tomato': 10}}"
      ]
     },
     "execution_count": 38,
     "metadata": {},
     "output_type": "execute_result"
    }
   ],
   "source": [
    "fruits_and_veggies = { 'fruits': {'apple': 1,'oranges': 3, 'grapes': 'lots'},\n",
    "                'vegetables': {'tomato': 10,'potatoes': 'none', 'banana' : 'Not a veggie'}}\n",
    "fruits_and_veggies['juices'] = {'pineappleJuice' : 10}\n",
    "fruits_and_veggies"
   ]
  }
 ],
 "metadata": {
  "anaconda-cloud": {},
  "executed_sections": [],
  "kernelspec": {
   "display_name": "Python 3",
   "language": "python",
   "name": "python3"
  },
  "language_info": {
   "codemirror_mode": {
    "name": "ipython",
    "version": 3
   },
   "file_extension": ".py",
   "mimetype": "text/x-python",
   "name": "python",
   "nbconvert_exporter": "python",
   "pygments_lexer": "ipython3",
   "version": "3.6.1"
  }
 },
 "nbformat": 4,
 "nbformat_minor": 2
}
