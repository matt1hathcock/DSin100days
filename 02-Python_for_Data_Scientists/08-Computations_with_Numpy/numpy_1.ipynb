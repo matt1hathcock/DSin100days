{
 "cells": [
  {
   "cell_type": "markdown",
   "metadata": {
    "tags": [
     "l11111"
    ]
   },
   "source": [
    "# Numpy I\n",
    "\n",
    "## Arrays and Lists\n",
    "\n",
    "Before getting introduced to Numpy library, we need to be familiar with a very widely used data structure called 'array'. An **array** is a collection of homogenous elements. Here homogenous means elements of the same data type. And so an array can be a collection of integers (*int* datatypes), collection of fractions/decimal values (*float* datatypes) or a collection of characters (*char* datatype) also referred to as a *string*.\n",
    "\n",
    "A **list** is very similar to an array in structure differing only by the characteristic that, a list is a collection of heterogenous elements, i.e. elements with various datatypes.\n",
    "\n",
    "<img src=\"../images/arrayvslist.png\" width=\"800\"><br>\n",
    "\n",
    "Both arrays and lists can be accessed in the same way, using an index, which is a reference to the position of the element within the collection. Index begins from zero and ends with n-1, where n is the total length of the array (which is the number of elements in the array or list).\n",
    "\n",
    "## 1. NumPy Introduction\n",
    "\n",
    "NumPy is a library in Python that supports creation and operations on large, multidimensional arrays and matrices. It facilitates scientific and numeric computing with high level mathematical functions to operate on these arrays.\n",
    "\n",
    "A NumPy object is generally a multi-dimensional array. It is a table of elements with the same data type (int, float, char, etc.), indexed by a tuple of positive integers (also called *indices*). In Numpy, dimensions are called *axes*. The number of axes is *rank*. (ref: scipy.org)\n",
    "\n",
    "Consider a 3D space of x, y and z coordinates. A  point in 3D space [1.0, 3.0, 5.0] is an array of rank 1. If there are several such points as shown below, then the dimensions are of the nature m by n. In the example shown below, there are 4 rows and 3 columns (i.e., 3 elements or values for each point/observation), this translates to an n-dimensional array with a shape of 4 by 3.\n",
    "```python\n",
    "[[ 1.0, 0.3, 4.5],\n",
    " [ 0.5, 1.5, 2.3],\n",
    " [ 6.0, 4.6, 3.5],\n",
    " [ 4.5, 3.5, 6.3]]\n",
    "```\n",
    "To use a library, we need to import them. Any python library can be referenced by an alias that is mentioned during the import. For example, NumPy library is most commonly imported in the short form as np:\n",
    "```python\n",
    "# Importing the numpy library\n",
    "import numpy as np\n",
    "```\n",
    "\n",
    "There are several ways to initialize an array in numpy :\n",
    "* a = np.array([0,1,2,3])   ...   creates an array of rank 1\n",
    "* a = np.array([[0,1,2,3],[4,5,6,7]])   ...   creates a 2x4 matrix  \n",
    "* a = np.ones((3,3))   ...   creates a 3x3 matrix with all 1s\n",
    "* a = np.zeroes((2,2))   ...   creates a 2x2 matrix with all 0s\n",
    "* a = np.eye(3)   ...   creates a 3x3 matrix with 1s at the diagonal and 0s otherwise (i.e. an identity matrix)\n",
    "  \n",
    "Ref: http://www.numpy.org\n",
    "\n",
    "We will look at various functions (most widely used functions) within the numpy library and practice applying them.\n",
    "\n",
    "## 2. Casting a non-array datatype into an array\n",
    "\n",
    "The np.array() method can be used to convert a variable of any data type into an n-dimensional array. By simply passing the variable as an argument to this function, we can convert the variable which can be an integer, float, list, series or dataframe into an n-dimensional array.\n",
    "\n",
    "For Example:\n",
    "\n",
    "```python\n",
    "a = 5\n",
    "type(a)\n",
    ">>> int\n",
    "\n",
    "a = np.array(a)\n",
    "type(a)\n",
    ">>> numpy.ndarray\n",
    "\n",
    "b = [1.2, 3.4, 5.6]\n",
    "type(b)\n",
    ">>> list\n",
    "\n",
    "b = np.array(b)\n",
    "type(b)\n",
    ">>> numpy.ndarray\n",
    "```\n",
    "\n",
    "### Exercise:\n",
    "\n",
    "Given the list of numbers use the np.array() method to cast the list into a numpy array\n"
   ]
  },
  {
   "cell_type": "code",
   "execution_count": 1,
   "metadata": {
    "tags": [
     "l11111"
    ]
   },
   "outputs": [],
   "source": [
    "import numpy as np\n",
    "\n",
    "# Cast the below given list into an array\n",
    "a = ['Hello',4,5,17.32,25.21,'c']"
   ]
  },
  {
   "cell_type": "markdown",
   "metadata": {
    "tags": [
     "l11111"
    ]
   },
   "source": [
    "# hint\n",
    "\n",
    "Use np.array() method and pass the list as an argument."
   ]
  },
  {
   "cell_type": "code",
   "execution_count": 2,
   "metadata": {
    "tags": [
     "l11111"
    ]
   },
   "outputs": [
    {
     "data": {
      "text/plain": [
       "numpy.ndarray"
      ]
     },
     "execution_count": 2,
     "metadata": {},
     "output_type": "execute_result"
    }
   ],
   "source": [
    "a = np.array(a)\n",
    "type(a)"
   ]
  },
  {
   "cell_type": "code",
   "execution_count": 3,
   "metadata": {
    "tags": [
     "l11111"
    ]
   },
   "outputs": [],
   "source": [
    "from refactored import unittest\n",
    "\n",
    "ref_tmp_var = False\n",
    "\n",
    "ref_tmp_var = unittest.test_value(np.array(a))\n",
    "\n",
    "assert ref_tmp_var"
   ]
  },
  {
   "cell_type": "markdown",
   "metadata": {
    "tags": [
     "l22222"
    ]
   },
   "source": [
    "<br>\n",
    "### Wait! The above list was heterogenous...\n",
    "\n",
    "Remember that an array is a collection of homogenous elements. However, in the above exercise the list 'a' was a collection of heterogenous elements/values (values of different datatypes). The np.array() method worked anyway and converted the list into an array. The method acheives this by converting all the list elements into string data types. Another interesting behavior to note is that once the elements are cast as a string data types, they cannot be individually re-cast into integer, float or other data types.\n",
    "\n",
    "i.e., In the above example:\n",
    "\n",
    "```python\n",
    "print(a[2],type(a[2]))\n",
    ">>> 5 <class 'numpy.str_'>\n",
    "\n",
    "# Casting to 'int'\n",
    "a[2] = int(a[2])\n",
    "print(a[2],type(a[2]))\n",
    ">>> 5 <class 'numpy.str_'>\n",
    "```\n",
    "There is no change in array element data type, by individual recasting.\n",
    "\n",
    "## 3. Casting a list of lists into a 2-dimensional array\n",
    "\n",
    "A list of lists structure can be converted into a 2-D array (or matrix) using the np.array() method.\n",
    "\n",
    "```python\n",
    "my_list2 = [[1,2,3],[4,5,6],[7,8,9],[10,11,12]]\n",
    "list_of_lists = np.array(my_list2)\n",
    "print(list_of_lists,\"\\n\",type(list_of_lists))\n",
    ">>> [[ 1  2  3]\n",
    "  [ 4  5  6]\n",
    "  [ 7  8  9]\n",
    "  [10 11 12]]\n",
    "  <class 'numpy.ndarray'>\n",
    "```\n",
    "\n",
    "## 4. Checking the shape and data type of a numpy array\n",
    "\n",
    "Shape of an array can be described as the lengths of every dimension pertaining to the array. <br/>\n",
    "For a 2-dimensional array, shape would be number of rows * number of columns, denoted as 'mxn' and read as 'm by n'.\n",
    "\n",
    "<img src=\"../images/numpy_1-shape_of_array.png\">\n",
    "\n",
    "The command shape is used to determine the dimensions of the array.\n",
    "\n",
    "```python\n",
    "print(list_of_lists.shape)\n",
    ">>> (4, 3)\n",
    "```\n",
    "\n",
    "The data type of each individual elements in an array can be identified by using the 'dtype' attribute.\n",
    "\n",
    "```python\n",
    "my_list2 = [[1,2,3],[4,5,6],[7,8,9],[10,11,12]]\n",
    "list_of_lists = np.array(my_list2)\n",
    "print(list_of_lists.dtype)\n",
    ">>> int32\n",
    "```\n",
    "\n",
    "### Exercise:\n",
    "\n",
    "Find the shape of the array below and assign to the variable: two_d_shape and print it out.\n",
    "Also find the data type of the elements in the array assign to the variable: two_d_datatype and print it out.\n",
    "\n",
    "```python\n",
    "[[1, 0.3, 4.5]\n",
    " [2, 4.0, 6.0]]\n",
    "```"
   ]
  },
  {
   "cell_type": "code",
   "execution_count": 4,
   "metadata": {
    "tags": [
     "l22222"
    ]
   },
   "outputs": [],
   "source": [
    "import numpy as np\n",
    "\n",
    "two_d_array = np.array([[ 1 ,  0.3,  4.5],\n",
    "                        [2, 4.0, 6.0]])"
   ]
  },
  {
   "cell_type": "markdown",
   "metadata": {
    "tags": [
     "l22222"
    ]
   },
   "source": [
    "# hint\n",
    "<p>Use array_name.shape() and array_name.dtype()</p>"
   ]
  },
  {
   "cell_type": "code",
   "execution_count": 5,
   "metadata": {
    "tags": [
     "l22222"
    ]
   },
   "outputs": [
    {
     "name": "stdout",
     "output_type": "stream",
     "text": [
      "(2, 3) float64\n"
     ]
    }
   ],
   "source": [
    "two_d_shape = two_d_array.shape\n",
    "two_d_datatype = two_d_array.dtype\n",
    "print(two_d_shape,two_d_datatype)"
   ]
  },
  {
   "cell_type": "code",
   "execution_count": 6,
   "metadata": {
    "tags": [
     "l22222"
    ]
   },
   "outputs": [],
   "source": [
    "ref_tmp_var_1 = False\n",
    "\n",
    "ref_tmp_var_1 = unittest.test_value(two_d_array.shape) and unittest.test_value(two_d_array.dtype)\n",
    "\n",
    "assert ref_tmp_var_1"
   ]
  },
  {
   "cell_type": "markdown",
   "metadata": {
    "tags": [
     "l33333"
    ]
   },
   "source": [
    "\n",
    "## 5. NumPy Array Operations\n",
    " \n",
    "<br>\n",
    "In this lesson we shall study various operations on numpy arrays. \n",
    "\n",
    "#### 5.1 Addition of two arrays\n",
    "\n",
    "To add another array of the same dimension use\n",
    "```python\n",
    "C = np.add(A, B)      OR     C = A + B\n",
    "```\n",
    "\n",
    "#### 5.2 Subtraction of two arrays\n",
    "\n",
    "To subtract an array from another array use \n",
    "```python\n",
    "D = np.subtract(A,B)  OR     D = A - B\n",
    "```\n",
    "\n",
    "#### 5.3 Multiplication\n",
    "\n",
    "Using __np.multiply__ (or the __* symbol__) you can\n",
    "\n",
    "> 1) multiply a constant with the elements of the array\n",
    "```python\n",
    "K = 10\n",
    "Y = np.multiply(K,[1, 2, 3, 4, 5])   OR     Y = K * np.array([1, 2, 3, 4, 5])\n",
    "\n",
    ">>>> array([10, 20, 30, 40, 50])\n",
    "```\n",
    "> 2) multiply an array with another array, performs element-wise multiplication (only if both arrays are of equal shape)\n",
    "``` python\n",
    "A = np.array([1,2,3])\n",
    "B = np.array([4,5,6])\n",
    "C = np.multiply(A,B)                 OR     C = A * B\n",
    "\n",
    ">>>> array([ 4, 10, 18])\n",
    "```\n",
    "\n",
    "Using __np.dot__ you can perform\n",
    "\n",
    "> 3) dot product of two arrays, calculates sum of product of elements (only if both arrays are of equal shape)\n",
    "```python\n",
    "A = np.array([1,2,3])\n",
    "B = np.array([4,5,6])\n",
    "C = np.dot(A, B)\n",
    "\n",
    ">>>> 32\n",
    "```\n",
    "\n",
    "Using __np.matmul__ you can perform\n",
    "\n",
    "> 4) matrix multiplication (only if number of columns in the 1st one equals the number of rows in the 2nd one)\n",
    "``` python\n",
    "A = [[1, 0], [0, 1]]\n",
    "B = [[4, 1], [2, 2]]\n",
    "C = np.matmul(A, B)\n",
    "\n",
    ">>>> array([[4, 1],\n",
    "       [2, 2]])\n",
    "```\n",
    "\n",
    "#### Other Common Operations\n",
    "\n",
    "The other common operations such as square root and exponential functions can be computed with the extensions that are common to most other languages such as :\n",
    "\n",
    "```python\n",
    "numpy.sqrt(B), numpy.exp(A), \n",
    "```\n",
    "In this lesson, we can observe that most operations with respect to arrays in the area of data science, can be accessed through the commonly available extensions in other languages as such.\n",
    "\n",
    "\n",
    "### Exercise:\n",
    "\n",
    "Given two arrays:\n",
    "```python\n",
    "A = [1, 2, 3, 4]\n",
    "B = [2, 3, 4, 5]\n",
    "```\n",
    "\n",
    "- Initilize the above arrays as variables A & B.\n",
    "- Perform a dot product of the two vectors and assign it to the variable C.\n",
    "- Print C."
   ]
  },
  {
   "cell_type": "code",
   "execution_count": 7,
   "metadata": {
    "tags": [
     "l33333"
    ]
   },
   "outputs": [],
   "source": [
    "import numpy as np\n"
   ]
  },
  {
   "cell_type": "markdown",
   "metadata": {
    "tags": [
     "l33333"
    ]
   },
   "source": [
    "<p>For power in B:</p>\n",
    "\n",
    "<p>  A**power will contain the array. Append this to another empty array.</p>\n",
    "\n",
    "<p>Or use __np.dot__ function instead</p>"
   ]
  },
  {
   "cell_type": "code",
   "execution_count": 8,
   "metadata": {
    "tags": [
     "l33333"
    ]
   },
   "outputs": [
    {
     "data": {
      "text/plain": [
       "40"
      ]
     },
     "execution_count": 8,
     "metadata": {},
     "output_type": "execute_result"
    }
   ],
   "source": [
    "A = np.array([1, 2, 3, 4])\n",
    "B = np.array([2, 3, 4, 5])\n",
    "\n",
    "C=np.dot(A,B)\n",
    "C"
   ]
  },
  {
   "cell_type": "code",
   "execution_count": 9,
   "metadata": {
    "tags": [
     "l33333"
    ]
   },
   "outputs": [],
   "source": [
    "ref_tmp_var = False\n",
    "\n",
    "ref_tmp_var = unittest.test_value(np.dot(A,B))\n",
    "\n",
    "assert ref_tmp_var"
   ]
  },
  {
   "cell_type": "markdown",
   "metadata": {
    "tags": [
     "l44444"
    ]
   },
   "source": [
    "## 6. Numpy special functions\n",
    "\n",
    "### 6.1 arange() function\n",
    "\n",
    "There is a basic function in python to generate a list of values. **range**(lower, upper, increment) - where the function starts from the lower value and iterates the value using increment, up to the upper value(exclusive). <br>\n",
    "Numpy's **arange**(lower, upper, increment) function has the same functionality, except that the output of this function would be an array with the iterated values.\n",
    "\n",
    "For example:\n",
    "```python\n",
    "np.arange(1,5)\n",
    ">>> array([1, 2, 3, 4])\n",
    "\n",
    "np.arange(1,11,2)\n",
    ">>> array([1, 3, 5, 7, 9])\n",
    "\n",
    "np.arange(11,1,-2)\n",
    ">>> array([11,  9,  7,  5,  3])\n",
    "```\n",
    "\n",
    "### Exercise\n",
    "\n",
    "Create 2 arrays with values 1,2,3,4 and 5.\n",
    "* first array using **range()** function\n",
    "* second array using **arange()** function"
   ]
  },
  {
   "cell_type": "code",
   "execution_count": 10,
   "metadata": {
    "tags": [
     "l44444"
    ]
   },
   "outputs": [],
   "source": [
    "array_one = []\n",
    "array_two = []"
   ]
  },
  {
   "cell_type": "markdown",
   "metadata": {
    "tags": [
     "l44444"
    ]
   },
   "source": [
    "# hint\n",
    "\n",
    "Refer to the examples given.\n",
    "* To create an array with **range** function generate a list and cast it into an np.array(). \n",
    "* To create an array with **arange** function use the np.arange() function."
   ]
  },
  {
   "cell_type": "code",
   "execution_count": 11,
   "metadata": {
    "tags": [
     "l44444"
    ]
   },
   "outputs": [
    {
     "name": "stdout",
     "output_type": "stream",
     "text": [
      "[1 2 3 4 5] [1 2 3 4 5]\n"
     ]
    }
   ],
   "source": [
    "array_one = []\n",
    "for i in range(1,6):\n",
    "    array_one.append(i)\n",
    "array_one = np.array(array_one)\n",
    "array_two = np.arange(1,6)\n",
    "\n",
    "print(array_one, array_two)"
   ]
  },
  {
   "cell_type": "code",
   "execution_count": 12,
   "metadata": {
    "tags": [
     "l44444"
    ]
   },
   "outputs": [],
   "source": [
    "ref_tmp_var = False\n",
    "\n",
    "ref_tmp_var = unittest.test_value(np.array([x for x in range(1,6)])) and unittest.test_value(np.arange(1,6)) \n",
    "\n",
    "assert ref_tmp_var"
   ]
  },
  {
   "cell_type": "markdown",
   "metadata": {
    "tags": [
     "l55555"
    ]
   },
   "source": [
    "### 6.2 linspace() function\n",
    "\n",
    "The linear space function creates an array of values which are equally spaced within specified limits. The function accepts a lower limit, an upper limit and the length of the array(say 'n') and it generates _'n'_ equally spaced elements from lower limit to upper limit (inclusive).\n",
    "\n",
    "```python\n",
    "np.linspace(1,5,5)\n",
    ">>> array([ 1.,  2.,  3.,  4.,  5.])\n",
    "\n",
    "np.linspace(0,1,10)\n",
    ">>> array([ 0.        ,  0.11111111,  0.22222222,  0.33333333,  0.44444444,\n",
    "         0.55555556,  0.66666667,  0.77777778,  0.88888889,  1.        ])\n",
    "\n",
    "np.linspace(-6,6,5)\n",
    ">>> array([-6., -3.,  0.,  3.,  6.])\n",
    "```\n",
    "\n",
    "### Exercise\n",
    "\n",
    "Initialize and print:\n",
    "* a linearly spaced array with 5 values between 5 and 50"
   ]
  },
  {
   "cell_type": "code",
   "execution_count": 13,
   "metadata": {
    "tags": [
     "l55555"
    ]
   },
   "outputs": [],
   "source": [
    "# Modify code below\n",
    "\n",
    "lin_arr = []"
   ]
  },
  {
   "cell_type": "markdown",
   "metadata": {
    "tags": [
     "l55555"
    ]
   },
   "source": [
    "# hint\n",
    "\n",
    "Refer to the examples given."
   ]
  },
  {
   "cell_type": "code",
   "execution_count": 14,
   "metadata": {
    "tags": [
     "l55555"
    ]
   },
   "outputs": [
    {
     "data": {
      "text/plain": [
       "array([ 5.  , 16.25, 27.5 , 38.75, 50.  ])"
      ]
     },
     "execution_count": 14,
     "metadata": {},
     "output_type": "execute_result"
    }
   ],
   "source": [
    "lin_arr = np.linspace(5,50,5)\n",
    "lin_arr"
   ]
  },
  {
   "cell_type": "code",
   "execution_count": 15,
   "metadata": {
    "tags": [
     "l55555"
    ]
   },
   "outputs": [],
   "source": [
    "ref_tmp_var = False\n",
    "\n",
    "ref_tmp_var = unittest.test_value(np.linspace(5,50,5))\n",
    "\n",
    "assert ref_tmp_var"
   ]
  },
  {
   "cell_type": "markdown",
   "metadata": {
    "tags": [
     "l66666"
    ]
   },
   "source": [
    "### 6.3 Zeros, Ones and Eye\n",
    "\n",
    "The **np.zeros()** and **np.ones()** functions are used to create n-dimensional arrays with all elements as zeros or ones respectively. Such arrays are extremely useful in many numeric and mathematical operations. The functions take the shape of the array that is to be created, as the argument.\n",
    "\n",
    "```python\n",
    "np.zeros(1,5)\n",
    ">>> array([[ 0.,  0.,  0.,  0.,  0.]])\n",
    "\n",
    "np.ones((2,4))\n",
    ">>> array([[1., 1., 1., 1.],\n",
    "       [1., 1., 1., 1.]])\n",
    "```\n",
    "\n",
    "The **np.eye()** function creates a square matrix, nxn, with all diagonal elements as ones and all non-diagonal elements are zeros. In mathematics, such kind of a matrix is called the \"Identity Matrix\", as the multiplicative product of any matrix A and the appropriate identity matrix, is always A itself.\n",
    "\n",
    "``` python\n",
    "np.eye(2)\n",
    ">>> array([[1., 0.],\n",
    "       [0., 1.]])\n",
    "```\n",
    "<img src=\"../images/numpy_1-zeroes_ones_eye.png\">\n",
    "\n",
    "\n",
    "### Exercise\n",
    "\n",
    "Initiate three arrays:\n",
    "* A zeros array of shape (3,3)\n",
    "* A ones array of shape (4,4)\n",
    "* A 3x3 Identity Matrix"
   ]
  },
  {
   "cell_type": "code",
   "execution_count": 16,
   "metadata": {
    "tags": [
     "l66666"
    ]
   },
   "outputs": [],
   "source": [
    "# Modify code below\n",
    "\n",
    "zeros_arr = []\n",
    "ones_arr = []\n",
    "eye_mat = []"
   ]
  },
  {
   "cell_type": "markdown",
   "metadata": {
    "tags": [
     "l66666"
    ]
   },
   "source": [
    "# hint\n",
    "\n",
    "Refer to the examples given."
   ]
  },
  {
   "cell_type": "code",
   "execution_count": 17,
   "metadata": {
    "tags": [
     "l66666"
    ]
   },
   "outputs": [],
   "source": [
    "zeros_arr = np.zeros((3,3))\n",
    "ones_arr = np.ones((4,4))\n",
    "eye_mat = np.eye(3)"
   ]
  },
  {
   "cell_type": "code",
   "execution_count": 18,
   "metadata": {
    "tags": [
     "l66666"
    ]
   },
   "outputs": [],
   "source": [
    "ref_tmp_var = False\n",
    "\n",
    "ref_tmp_var = unittest.test_value(np.zeros((3,3))) and unittest.test_value(np.ones((4,4))) and unittest.test_value(np.eye(3))\n",
    "\n",
    "assert ref_tmp_var"
   ]
  }
 ],
 "metadata": {
  "anaconda-cloud": {},
  "celltoolbar": "Tags",
  "executed_sections": [],
  "kernelspec": {
   "display_name": "Python 3",
   "language": "python",
   "name": "python3"
  },
  "language_info": {
   "codemirror_mode": {
    "name": "ipython",
    "version": 3
   },
   "file_extension": ".py",
   "mimetype": "text/x-python",
   "name": "python",
   "nbconvert_exporter": "python",
   "pygments_lexer": "ipython3",
   "version": "3.6.4"
  }
 },
 "nbformat": 4,
 "nbformat_minor": 2
}
