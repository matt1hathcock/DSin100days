{
 "cells": [
  {
   "cell_type": "markdown",
   "metadata": {
    "tags": [
     "l11111"
    ]
   },
   "source": [
    "# Introduction to Data Visualization\n",
    "\n",
    "### Data Visualization\n",
    "\n",
    "Data Visualization is an important part of Data Science. It is the presentation of data in a pictorial or graphical format, an effective way to communicate your findings about the dataset. The goals of visualization are:\n",
    "\n",
    "* To gain powerful insights into data that aren't obvious with statistics. \n",
    "* Business and non-technical audience are able to comprehend the results.\n",
    "* Useful to build stories so peer data scientists can understand the analysis. \n",
    "\n",
    "### 1. Matplotlib\n",
    "\n",
    "Matplotlib is a basic graphing library in python. It is the most commonly used package by data scientists for visualization. Many of the more advanced visualization tools use matplotlib as the base library. Hence you will need to develop some basic familiarity with how to use matplotlib. \n",
    "\n",
    "Let us learn to use matplotlib by plotting the sine curve. The sine of a variable can be computed using the numpy library with np.sin() function.\n",
    "\n",
    "```python\n",
    "import matplotlib.pyplot as plt\n",
    "import numpy as np\n",
    "\n",
    "x = np.linspace(-np.pi, np.pi, 100)\n",
    "plt.plot(x, np.sin(x))\n",
    "plt.xlabel('Theta')\n",
    "plt.ylabel('y=sin(x)')\n",
    "plt.show()\n",
    "```\n",
    "<img src='https://s3.amazonaws.com/rfjh/media/CKEditorImages/2017/05/01/sine.png'/>\n",
    "\n",
    "<br/>\n",
    "\n",
    "### 1.1 _Scatter Plot_\n",
    "\n",
    "A scatter plot shows the relationship between two numerical variables. Each member of the dataset gets plotted as a point whose (x, y) coordinates relates to its values for the two variables. \n",
    "\n",
    "Let's walk through a very simple example using two numpy arrays."
   ]
  },
  {
   "cell_type": "code",
   "execution_count": 1,
   "metadata": {
    "tags": [
     "l11111"
    ]
   },
   "outputs": [
    {
     "data": {
      "text/plain": [
       "<matplotlib.figure.Figure at 0xce2618a588>"
      ]
     },
     "metadata": {},
     "output_type": "display_data"
    }
   ],
   "source": [
    "import numpy as np\n",
    "import matplotlib.pyplot as plt\n",
    "\n",
    "x = np.linspace(0, 5, 11)\n",
    "y = x ** 2\n",
    "\n",
    "plt.scatter(x, y)\n",
    "plt.xlabel('X values')\n",
    "plt.ylabel('X values')\n",
    "plt.title('Scatter Plot')\n",
    "plt.show()"
   ]
  },
  {
   "cell_type": "markdown",
   "metadata": {
    "tags": [
     "l11111"
    ]
   },
   "source": [
    "# hint"
   ]
  },
  {
   "cell_type": "code",
   "execution_count": 2,
   "metadata": {
    "tags": [
     "l11111"
    ]
   },
   "outputs": [],
   "source": [
    "# solution"
   ]
  },
  {
   "cell_type": "code",
   "execution_count": 3,
   "metadata": {
    "tags": [
     "l11111"
    ]
   },
   "outputs": [],
   "source": [
    "# code testing"
   ]
  },
  {
   "cell_type": "markdown",
   "metadata": {
    "tags": [
     "l22222"
    ]
   },
   "source": [
    "## Exercise:\n",
    "\n",
    "For the 'iris' dataset generate a scatter plot using matplotlib to visualize the relationship between 'petal length (cm)' and 'petal width (cm)'. Use plt.show()"
   ]
  },
  {
   "cell_type": "code",
   "execution_count": 4,
   "metadata": {
    "tags": [
     "l22222"
    ]
   },
   "outputs": [
    {
     "data": {
      "text/html": [
       "<div>\n",
       "<style scoped>\n",
       "    .dataframe tbody tr th:only-of-type {\n",
       "        vertical-align: middle;\n",
       "    }\n",
       "\n",
       "    .dataframe tbody tr th {\n",
       "        vertical-align: top;\n",
       "    }\n",
       "\n",
       "    .dataframe thead th {\n",
       "        text-align: right;\n",
       "    }\n",
       "</style>\n",
       "<table border=\"1\" class=\"dataframe\">\n",
       "  <thead>\n",
       "    <tr style=\"text-align: right;\">\n",
       "      <th></th>\n",
       "      <th>sepal length (cm)</th>\n",
       "      <th>sepal width (cm)</th>\n",
       "      <th>petal length (cm)</th>\n",
       "      <th>petal width (cm)</th>\n",
       "    </tr>\n",
       "  </thead>\n",
       "  <tbody>\n",
       "    <tr>\n",
       "      <th>0</th>\n",
       "      <td>5.1</td>\n",
       "      <td>3.5</td>\n",
       "      <td>1.4</td>\n",
       "      <td>0.2</td>\n",
       "    </tr>\n",
       "    <tr>\n",
       "      <th>1</th>\n",
       "      <td>4.9</td>\n",
       "      <td>3.0</td>\n",
       "      <td>1.4</td>\n",
       "      <td>0.2</td>\n",
       "    </tr>\n",
       "    <tr>\n",
       "      <th>2</th>\n",
       "      <td>4.7</td>\n",
       "      <td>3.2</td>\n",
       "      <td>1.3</td>\n",
       "      <td>0.2</td>\n",
       "    </tr>\n",
       "    <tr>\n",
       "      <th>3</th>\n",
       "      <td>4.6</td>\n",
       "      <td>3.1</td>\n",
       "      <td>1.5</td>\n",
       "      <td>0.2</td>\n",
       "    </tr>\n",
       "    <tr>\n",
       "      <th>4</th>\n",
       "      <td>5.0</td>\n",
       "      <td>3.6</td>\n",
       "      <td>1.4</td>\n",
       "      <td>0.2</td>\n",
       "    </tr>\n",
       "  </tbody>\n",
       "</table>\n",
       "</div>"
      ],
      "text/plain": [
       "   sepal length (cm)  sepal width (cm)  petal length (cm)  petal width (cm)\n",
       "0                5.1               3.5                1.4               0.2\n",
       "1                4.9               3.0                1.4               0.2\n",
       "2                4.7               3.2                1.3               0.2\n",
       "3                4.6               3.1                1.5               0.2\n",
       "4                5.0               3.6                1.4               0.2"
      ]
     },
     "execution_count": 4,
     "metadata": {},
     "output_type": "execute_result"
    }
   ],
   "source": [
    "import pandas as pd\n",
    "from sklearn import datasets\n",
    "raw_data = datasets.load_iris()\n",
    "iris = pd.DataFrame(raw_data.data, columns= raw_data.feature_names)\n",
    "iris.head()"
   ]
  },
  {
   "cell_type": "markdown",
   "metadata": {
    "tags": [
     "l22222"
    ]
   },
   "source": [
    "# hint"
   ]
  },
  {
   "cell_type": "code",
   "execution_count": 5,
   "metadata": {
    "tags": [
     "l22222"
    ]
   },
   "outputs": [
    {
     "data": {
      "image/png": "[encoded data removed]",
      "text/plain": [
       "<matplotlib.figure.Figure at 0xce2618a2b0>"
      ]
     },
     "metadata": {},
     "output_type": "display_data"
    }
   ],
   "source": [
    "plt.scatter(iris['petal length (cm)'],iris['petal width (cm)'])\n",
    "plt.show()"
   ]
  },
  {
   "cell_type": "code",
   "execution_count": 6,
   "metadata": {
    "tags": [
     "l22222"
    ]
   },
   "outputs": [],
   "source": [
    "# code testing"
   ]
  },
  {
   "cell_type": "markdown",
   "metadata": {
    "tags": [
     "l33333"
    ]
   },
   "source": [
    "### 1.2 _Distribution Plot_\n",
    "\n",
    " A distribution plot is suitable for comparing range and distribution of numerical data. Distribution of continuous variables is called continuous distribution and distribution of discrete variables is called discrete distribution. In matplotlib distributions are called histograms and visualized using hist() plot.\n",
    " \n",
    " Let's see the continuous distribution of values in a randomly generated array."
   ]
  },
  {
   "cell_type": "code",
   "execution_count": 7,
   "metadata": {
    "tags": [
     "l33333"
    ]
   },
   "outputs": [
    {
     "data": {
      "image/png": "[encoded data removed]",
      "text/plain": [
       "<matplotlib.figure.Figure at 0xce2aa15710>"
      ]
     },
     "metadata": {},
     "output_type": "display_data"
    }
   ],
   "source": [
    "x = np.random.normal(size=100)\n",
    "plt.hist(x)\n",
    "plt.show()"
   ]
  },
  {
   "cell_type": "markdown",
   "metadata": {
    "tags": [
     "l33333"
    ]
   },
   "source": [
    "# hint"
   ]
  },
  {
   "cell_type": "code",
   "execution_count": 8,
   "metadata": {
    "tags": [
     "l33333"
    ]
   },
   "outputs": [],
   "source": [
    "# solution"
   ]
  },
  {
   "cell_type": "code",
   "execution_count": 9,
   "metadata": {
    "tags": [
     "l33333"
    ]
   },
   "outputs": [],
   "source": [
    "# code testing"
   ]
  },
  {
   "cell_type": "markdown",
   "metadata": {
    "tags": [
     "l44444"
    ]
   },
   "source": [
    "## Exercise:\n",
    "\n",
    "For the 'iris' dataset generate a distribution plot using matplotlib to visualize the distribution of 'sepal_length'. Use plt.show()"
   ]
  },
  {
   "cell_type": "code",
   "execution_count": 10,
   "metadata": {
    "tags": [
     "l44444"
    ]
   },
   "outputs": [],
   "source": [
    "# pre-loaded code"
   ]
  },
  {
   "cell_type": "markdown",
   "metadata": {
    "tags": [
     "l44444"
    ]
   },
   "source": [
    "# hint"
   ]
  },
  {
   "cell_type": "code",
   "execution_count": 11,
   "metadata": {
    "tags": [
     "l44444"
    ]
   },
   "outputs": [
    {
     "data": {
      "image/png": "[encoded data removed]",
      "text/plain": [
       "<matplotlib.figure.Figure at 0xce2aac66d8>"
      ]
     },
     "metadata": {},
     "output_type": "display_data"
    }
   ],
   "source": [
    "plt.hist(iris['sepal length (cm)'])\n",
    "plt.show()"
   ]
  },
  {
   "cell_type": "code",
   "execution_count": 12,
   "metadata": {
    "tags": [
     "l44444"
    ]
   },
   "outputs": [],
   "source": [
    "# code testing"
   ]
  },
  {
   "cell_type": "markdown",
   "metadata": {
    "tags": [
     "l55555"
    ]
   },
   "source": [
    "### 2. Seaborn\n",
    "\n",
    "Seaborn is a Python visualization library based on matplotlib. It provides a high-level interface for drawing attractive statistical graphics. The graphs produced are also aesthetic and convey more information useful for Data Scientists.\n",
    "\n",
    "Seaborn comes with built-in data sets! Let's see how we can import tips dataset and analyze it using seaborn."
   ]
  },
  {
   "cell_type": "code",
   "execution_count": 13,
   "metadata": {
    "tags": [
     "l55555"
    ]
   },
   "outputs": [
    {
     "data": {
      "text/html": [
       "<div>\n",
       "<style scoped>\n",
       "    .dataframe tbody tr th:only-of-type {\n",
       "        vertical-align: middle;\n",
       "    }\n",
       "\n",
       "    .dataframe tbody tr th {\n",
       "        vertical-align: top;\n",
       "    }\n",
       "\n",
       "    .dataframe thead th {\n",
       "        text-align: right;\n",
       "    }\n",
       "</style>\n",
       "<table border=\"1\" class=\"dataframe\">\n",
       "  <thead>\n",
       "    <tr style=\"text-align: right;\">\n",
       "      <th></th>\n",
       "      <th>total_bill</th>\n",
       "      <th>tip</th>\n",
       "      <th>sex</th>\n",
       "      <th>smoker</th>\n",
       "      <th>day</th>\n",
       "      <th>time</th>\n",
       "      <th>size</th>\n",
       "    </tr>\n",
       "  </thead>\n",
       "  <tbody>\n",
       "    <tr>\n",
       "      <th>0</th>\n",
       "      <td>16.99</td>\n",
       "      <td>1.01</td>\n",
       "      <td>Female</td>\n",
       "      <td>No</td>\n",
       "      <td>Sun</td>\n",
       "      <td>Dinner</td>\n",
       "      <td>2</td>\n",
       "    </tr>\n",
       "    <tr>\n",
       "      <th>1</th>\n",
       "      <td>10.34</td>\n",
       "      <td>1.66</td>\n",
       "      <td>Male</td>\n",
       "      <td>No</td>\n",
       "      <td>Sun</td>\n",
       "      <td>Dinner</td>\n",
       "      <td>3</td>\n",
       "    </tr>\n",
       "    <tr>\n",
       "      <th>2</th>\n",
       "      <td>21.01</td>\n",
       "      <td>3.50</td>\n",
       "      <td>Male</td>\n",
       "      <td>No</td>\n",
       "      <td>Sun</td>\n",
       "      <td>Dinner</td>\n",
       "      <td>3</td>\n",
       "    </tr>\n",
       "    <tr>\n",
       "      <th>3</th>\n",
       "      <td>23.68</td>\n",
       "      <td>3.31</td>\n",
       "      <td>Male</td>\n",
       "      <td>No</td>\n",
       "      <td>Sun</td>\n",
       "      <td>Dinner</td>\n",
       "      <td>2</td>\n",
       "    </tr>\n",
       "    <tr>\n",
       "      <th>4</th>\n",
       "      <td>24.59</td>\n",
       "      <td>3.61</td>\n",
       "      <td>Female</td>\n",
       "      <td>No</td>\n",
       "      <td>Sun</td>\n",
       "      <td>Dinner</td>\n",
       "      <td>4</td>\n",
       "    </tr>\n",
       "  </tbody>\n",
       "</table>\n",
       "</div>"
      ],
      "text/plain": [
       "   total_bill   tip     sex smoker  day    time  size\n",
       "0       16.99  1.01  Female     No  Sun  Dinner     2\n",
       "1       10.34  1.66    Male     No  Sun  Dinner     3\n",
       "2       21.01  3.50    Male     No  Sun  Dinner     3\n",
       "3       23.68  3.31    Male     No  Sun  Dinner     2\n",
       "4       24.59  3.61  Female     No  Sun  Dinner     4"
      ]
     },
     "execution_count": 13,
     "metadata": {},
     "output_type": "execute_result"
    }
   ],
   "source": [
    "import seaborn as sns\n",
    "\n",
    "tips = sns.load_dataset('tips')\n",
    "tips.head()"
   ]
  },
  {
   "cell_type": "markdown",
   "metadata": {
    "tags": [
     "l55555"
    ]
   },
   "source": [
    "# hint"
   ]
  },
  {
   "cell_type": "code",
   "execution_count": 14,
   "metadata": {
    "tags": [
     "l55555"
    ]
   },
   "outputs": [],
   "source": [
    "# solution"
   ]
  },
  {
   "cell_type": "code",
   "execution_count": 15,
   "metadata": {
    "tags": [
     "l55555"
    ]
   },
   "outputs": [],
   "source": [
    "# code testing"
   ]
  },
  {
   "cell_type": "markdown",
   "metadata": {
    "tags": [
     "l66666"
    ]
   },
   "source": [
    "### 2.1 _Joint Plot_\n",
    "\n",
    "Seaborn's joint plot also shows the relationship between two numerical variables. It is equivalent to matplotlib's scatterplot.\n",
    "\n",
    "Let's see how people 'tip' w.r.t the 'total_bill' in the tips dataset."
   ]
  },
  {
   "cell_type": "code",
   "execution_count": 16,
   "metadata": {
    "tags": [
     "l66666"
    ]
   },
   "outputs": [
    {
     "data": {
      "image/png": "[encoded data removed]",
      "text/plain": [
       "<matplotlib.figure.Figure at 0xce2add6fd0>"
      ]
     },
     "metadata": {},
     "output_type": "display_data"
    }
   ],
   "source": [
    "sns.jointplot(x='total_bill',y='tip',data=tips)\n",
    "plt.show()"
   ]
  },
  {
   "cell_type": "markdown",
   "metadata": {
    "tags": [
     "l66666"
    ]
   },
   "source": [
    "# hint"
   ]
  },
  {
   "cell_type": "code",
   "execution_count": 17,
   "metadata": {
    "tags": [
     "l66666"
    ]
   },
   "outputs": [],
   "source": [
    "# solution"
   ]
  },
  {
   "cell_type": "code",
   "execution_count": 18,
   "metadata": {
    "tags": [
     "l66666"
    ]
   },
   "outputs": [],
   "source": [
    "# code testing"
   ]
  },
  {
   "cell_type": "markdown",
   "metadata": {
    "tags": [
     "l77777"
    ]
   },
   "source": [
    "## Exercise:\n",
    "\n",
    "Import seaborn's inbuilt dataset titanic into variable named 'titanic' and show the relationship between 'age' and 'fare' of people using a jointplot."
   ]
  },
  {
   "cell_type": "code",
   "execution_count": 19,
   "metadata": {
    "tags": [
     "l77777"
    ]
   },
   "outputs": [],
   "source": [
    "# pre-loaded code"
   ]
  },
  {
   "cell_type": "markdown",
   "metadata": {
    "tags": [
     "l77777"
    ]
   },
   "source": [
    "# hint"
   ]
  },
  {
   "cell_type": "code",
   "execution_count": 20,
   "metadata": {
    "tags": [
     "l77777"
    ]
   },
   "outputs": [
    {
     "data": {
      "image/png": "[encoded data removed]",
      "text/plain": [
       "<matplotlib.figure.Figure at 0xce2aec4fd0>"
      ]
     },
     "metadata": {},
     "output_type": "display_data"
    }
   ],
   "source": [
    "titanic = sns.load_dataset('titanic')\n",
    "\n",
    "sns.jointplot(x='age',y='fare',data=titanic)\n",
    "plt.show()"
   ]
  },
  {
   "cell_type": "code",
   "execution_count": 21,
   "metadata": {
    "tags": [
     "l77777"
    ]
   },
   "outputs": [],
   "source": [
    "# code testing"
   ]
  },
  {
   "cell_type": "markdown",
   "metadata": {
    "tags": [
     "l88888"
    ]
   },
   "source": [
    "### 2.2 _Distribution Plot_\n",
    "\n",
    "Seaborn has a number of plots to visualize distributions. The most important one is the dist plot which shows distribution of a univariate set of observations. Other distribution plots are rugplot and kdeplot.\n",
    "\n",
    "Let's see the distribution of 'total_bill in the tips dataset."
   ]
  },
  {
   "cell_type": "code",
   "execution_count": 22,
   "metadata": {
    "tags": [
     "l88888"
    ]
   },
   "outputs": [
    {
     "data": {
      "image/png": "[encoded data removed]",
      "text/plain": [
       "<matplotlib.figure.Figure at 0xce2add6c18>"
      ]
     },
     "metadata": {},
     "output_type": "display_data"
    }
   ],
   "source": [
    "sns.distplot(tips['total_bill'], kde=False)\n",
    "plt.show()"
   ]
  },
  {
   "cell_type": "markdown",
   "metadata": {
    "tags": [
     "l88888"
    ]
   },
   "source": [
    "# hint"
   ]
  },
  {
   "cell_type": "code",
   "execution_count": 23,
   "metadata": {
    "tags": [
     "l88888"
    ]
   },
   "outputs": [],
   "source": [
    "# solution"
   ]
  },
  {
   "cell_type": "code",
   "execution_count": 24,
   "metadata": {
    "tags": [
     "l88888"
    ]
   },
   "outputs": [],
   "source": [
    "# code testing"
   ]
  },
  {
   "cell_type": "markdown",
   "metadata": {
    "tags": [
     "l999999"
    ]
   },
   "source": [
    "## Exercise:\n",
    "\n",
    "For the 'tips' dataset generate a distribution plot using seaborn to visualize the distribution of 'tip' paid. Use plt.show()"
   ]
  },
  {
   "cell_type": "code",
   "execution_count": 25,
   "metadata": {
    "tags": [
     "l999999"
    ]
   },
   "outputs": [],
   "source": [
    "# pre-loaded code"
   ]
  },
  {
   "cell_type": "markdown",
   "metadata": {
    "tags": [
     "l999999"
    ]
   },
   "source": [
    "# hint"
   ]
  },
  {
   "cell_type": "code",
   "execution_count": 26,
   "metadata": {
    "tags": [
     "l999999"
    ]
   },
   "outputs": [
    {
     "data": {
      "image/png": "[encoded data removed]",
      "text/plain": [
       "<matplotlib.figure.Figure at 0xce2aaa09e8>"
      ]
     },
     "metadata": {},
     "output_type": "display_data"
    }
   ],
   "source": [
    "sns.distplot(tips['tip'], kde=False)\n",
    "plt.show()"
   ]
  },
  {
   "cell_type": "code",
   "execution_count": 27,
   "metadata": {
    "tags": [
     "l999999"
    ]
   },
   "outputs": [],
   "source": [
    "# code testing"
   ]
  }
 ],
 "metadata": {
  "celltoolbar": "Tags",
  "kernelspec": {
   "display_name": "Python 3",
   "language": "python",
   "name": "python3"
  },
  "language_info": {
   "codemirror_mode": {
    "name": "ipython",
    "version": 3
   },
   "file_extension": ".py",
   "mimetype": "text/x-python",
   "name": "python",
   "nbconvert_exporter": "python",
   "pygments_lexer": "ipython3",
   "version": "3.6.4"
  }
 },
 "nbformat": 4,
 "nbformat_minor": 2
}
